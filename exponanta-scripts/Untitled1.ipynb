{
 "cells": [
  {
   "cell_type": "code",
   "execution_count": 3,
   "id": "f3acff87-1ee8-4cca-b668-0b614f4b15b3",
   "metadata": {},
   "outputs": [
    {
     "name": "stdout",
     "output_type": "stream",
     "text": [
      "Data for AAPL:\n",
      "{'country': 'US', 'currency': 'USD', 'estimateCurrency': 'USD', 'exchange': 'NASDAQ NMS - GLOBAL MARKET', 'finnhubIndustry': 'Technology', 'ipo': '1980-12-12', 'logo': 'https://static2.finnhub.io/file/publicdatany/finnhubimage/stock_logo/AAPL.png', 'marketCapitalization': 3546704.6311822003, 'name': 'Apple Inc', 'phone': '14089961010', 'shareOutstanding': 14840.39, 'ticker': 'AAPL', 'weburl': 'https://www.apple.com/'}\n"
     ]
    }
   ],
   "source": [
    "import requests\n",
    "\n",
    "# Replace with your own free API key from Finnhub\n",
    "API_KEY = \"d365jppr01qumnp49810d365jppr01qumnp4981g\"\n",
    "\n",
    "# Example: Get basic company profile and indicators for Apple\n",
    "symbol = \"AAPL\"\n",
    "url = f\"https://finnhub.io/api/v1/stock/profile2?symbol={symbol}&token={API_KEY}\"\n",
    "\n",
    "response = requests.get(url)\n",
    "data = response.json()\n",
    "\n",
    "print(f\"Data for {symbol}:\")\n",
    "print(data)\n"
   ]
  },
  {
   "cell_type": "code",
   "execution_count": null,
   "id": "8ff76d1c-1a59-4251-a0e6-42a0312327d8",
   "metadata": {},
   "outputs": [],
   "source": []
  }
 ],
 "metadata": {
  "kernelspec": {
   "display_name": "Python 3 (ipykernel)",
   "language": "python",
   "name": "python3"
  },
  "language_info": {
   "codemirror_mode": {
    "name": "ipython",
    "version": 3
   },
   "file_extension": ".py",
   "mimetype": "text/x-python",
   "name": "python",
   "nbconvert_exporter": "python",
   "pygments_lexer": "ipython3",
   "version": "3.12.7"
  }
 },
 "nbformat": 4,
 "nbformat_minor": 5
}
