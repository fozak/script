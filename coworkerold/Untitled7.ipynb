{
 "cells": [
  {
   "cell_type": "code",
   "execution_count": 3,
   "id": "38339c65-9f95-4d7f-b1bf-135c04661603",
   "metadata": {},
   "outputs": [
    {
     "name": "stdout",
     "output_type": "stream",
     "text": [
      "=== Extracting annotations from: pdf2.pdf\n",
      "Annotations merged and saved to merged.pdf\n"
     ]
    }
   ],
   "source": [
    "from typing import List, Dict, Any\n",
    "import pypdf\n",
    "from pypdf.generic import NameObject, ArrayObject, IndirectObject\n",
    "\n",
    "keep_ids = {146, 151, 158, 163, 170}\n",
    "\n",
    "def extract_annotations_by_ids(pdf_path: str, keep_ids: set) -> Dict[int, List[Any]]:\n",
    "    \"\"\"Extract annotations from a PDF that match specific object IDs.\"\"\"\n",
    "    print(\"=== Extracting annotations from:\", pdf_path)\n",
    "    page_annots = {}\n",
    "    \n",
    "    with open(pdf_path, \"rb\") as file:\n",
    "        reader = pypdf.PdfReader(file)\n",
    "        \n",
    "        for page_num, page in enumerate(reader.pages):\n",
    "            if \"/Annots\" in page:\n",
    "                new_annots = []\n",
    "                for annot_ref in page[\"/Annots\"]:\n",
    "                    obj_id = getattr(annot_ref, \"idnum\", None)\n",
    "                    if obj_id in keep_ids:\n",
    "                        # Resolve the indirect reference to get the actual annotation object\n",
    "                        if isinstance(annot_ref, IndirectObject):\n",
    "                            annot_obj = annot_ref.get_object()\n",
    "                            new_annots.append(annot_obj)\n",
    "                        else:\n",
    "                            new_annots.append(annot_ref)\n",
    "                \n",
    "                if new_annots:\n",
    "                    page_annots[page_num] = new_annots\n",
    "    \n",
    "    return page_annots\n",
    "\n",
    "def merge_annotations(source_pdf_path: str, target_pdf_path: str, output_path: str, keep_ids: set):\n",
    "    \"\"\"Extract selected annotations from source_pdf and add to target_pdf.\"\"\"\n",
    "    \n",
    "    target_reader = pypdf.PdfReader(target_pdf_path)\n",
    "    writer = pypdf.PdfWriter()\n",
    "    \n",
    "    # Extract annotations from source\n",
    "    selected_annots = extract_annotations_by_ids(source_pdf_path, keep_ids)\n",
    "    \n",
    "    for i, target_page in enumerate(target_reader.pages):\n",
    "        # Add annotations from source if available\n",
    "        if i in selected_annots:\n",
    "            annots_to_add = []\n",
    "            \n",
    "            # Simply add each annotation object to writer - this automatically assigns new IDs\n",
    "            for annot in selected_annots[i]:\n",
    "                cloned_annot = writer._add_object(annot)\n",
    "                annots_to_add.append(cloned_annot)\n",
    "            \n",
    "            # Handle existing annotations on target page\n",
    "            existing_annots = target_page.get(NameObject(\"/Annots\"))\n",
    "            if existing_annots:\n",
    "                if not isinstance(existing_annots, list):\n",
    "                    existing_annots = [existing_annots]\n",
    "                combined_annots = list(existing_annots) + annots_to_add\n",
    "            else:\n",
    "                combined_annots = annots_to_add\n",
    "            \n",
    "            # Set the annotations array on the target page\n",
    "            target_page[NameObject(\"/Annots\")] = ArrayObject(combined_annots)\n",
    "        \n",
    "        # Add the page to writer\n",
    "        writer.add_page(target_page)\n",
    "    \n",
    "    # Save output\n",
    "    with open(output_path, \"wb\") as out_file:\n",
    "        writer.write(out_file)\n",
    "    \n",
    "    print(f\"Annotations merged and saved to {output_path}\")\n",
    "\n",
    "# Run the merge process\n",
    "merge_annotations(\"pdf2.pdf\", \"pdf1.pdf\", \"merged.pdf\", keep_ids)"
   ]
  },
  {
   "cell_type": "code",
   "execution_count": null,
   "id": "d1b3d7a0-1d39-4587-87e5-62de2d975d58",
   "metadata": {},
   "outputs": [],
   "source": []
  }
 ],
 "metadata": {
  "kernelspec": {
   "display_name": "Python 3 (ipykernel)",
   "language": "python",
   "name": "python3"
  },
  "language_info": {
   "codemirror_mode": {
    "name": "ipython",
    "version": 3
   },
   "file_extension": ".py",
   "mimetype": "text/x-python",
   "name": "python",
   "nbconvert_exporter": "python",
   "pygments_lexer": "ipython3",
   "version": "3.12.7"
  }
 },
 "nbformat": 4,
 "nbformat_minor": 5
}
