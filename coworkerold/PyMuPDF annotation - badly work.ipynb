{
 "cells": [
  {
   "cell_type": "code",
   "execution_count": 2,
   "id": "cc577b71-af7e-4156-9126-0e67d239f0a1",
   "metadata": {},
   "outputs": [
    {
     "name": "stdout",
     "output_type": "stream",
     "text": [
      "Annotations added with PyMuPDF!\n"
     ]
    }
   ],
   "source": [
    "import fitz  # PyMuPDF\n",
    "\n",
    "annotations = [\n",
    "    {'subtype': 'Square', 'rect': [851.58, 91.3, 1084.17, 666.64], 'content': 'Wiring change', 'stroke_color': (1, 0.83, 0)},\n",
    "    {'subtype': 'FreeText', 'rect': [1390.53, 792.79, 1548.53, 974.79], 'content': 'thi', 'font': 'helv', 'font_size': 12},\n",
    "    {'subtype': 'Square', 'rect': [1410.99, 167.26, 1560.95, 455.65], 'content': 'thc', 'stroke_color': (1, 0.4, 0.4)},\n",
    "    {'subtype': 'Text', 'rect': [1418.81, 406.41, 1440.81, 428.41], 'content': 'This should be changed', 'stroke_color': (1, 0.83, 0)},\n",
    "    {'subtype': 'Ink', 'rect': [1228.86, 589.81, 1564.06, 627.73], 'stroke_color': (1, 0.4, 0.4)},\n",
    "]\n",
    "\n",
    "try:\n",
    "    doc = fitz.open(\"pdf1.pdf\")\n",
    "    page = doc[0]\n",
    "    \n",
    "    for annot in annotations:\n",
    "        rect = fitz.Rect(annot['rect'])\n",
    "        subtype = annot['subtype']\n",
    "        \n",
    "        if subtype == 'Square':\n",
    "            square_annot = page.add_rect_annot(rect)\n",
    "            square_annot.set_colors(stroke=annot.get('stroke_color', (0,0,0)))\n",
    "            square_annot.set_border(width=2)\n",
    "            square_annot.info[\"content\"] = annot.get('content', '')  # Correct: use info dict\n",
    "            square_annot.update()\n",
    "        \n",
    "        elif subtype == 'FreeText':\n",
    "            freetext_annot = page.add_freetext_annot(rect, annot.get('content', ''),\n",
    "                                                     fontsize=annot.get('font_size', 12),\n",
    "                                                     fontname=annot.get('font', 'helv'))\n",
    "            freetext_annot.update()\n",
    "            \n",
    "        elif subtype == 'Text':\n",
    "            text_annot = page.add_text_annot(rect.tl, annot.get('content', ''))\n",
    "            if 'stroke_color' in annot:  # Text annotations use set_colors differently\n",
    "                text_annot.set_colors(stroke=annot['stroke_color'])\n",
    "            text_annot.update()\n",
    "            \n",
    "        elif subtype == 'Ink':\n",
    "            # Create a simple stroke (line) inside rect - convert Points to coordinate pairs\n",
    "            points = [[rect.tl.x, rect.tl.y], [rect.br.x, rect.br.y]]\n",
    "            ink_annot = page.add_ink_annot([points])\n",
    "            ink_annot.set_colors(stroke=annot.get('stroke_color', (0,0,0)))\n",
    "            ink_annot.set_border(width=2)\n",
    "            ink_annot.update()\n",
    "    \n",
    "    doc.save(\"pdf1_with_annotations.pdf\")\n",
    "    doc.close()  # Added: close the document\n",
    "    print(\"Annotations added with PyMuPDF!\")\n",
    "    \n",
    "except FileNotFoundError:\n",
    "    print(\"Error: pdf1.pdf not found\")\n",
    "except Exception as e:\n",
    "    print(f\"Error: {e}\")\n",
    "    if 'doc' in locals():\n",
    "        doc.close()"
   ]
  },
  {
   "cell_type": "code",
   "execution_count": null,
   "id": "2e422ac3-3f92-45f5-b62d-cf13e7ad9349",
   "metadata": {},
   "outputs": [],
   "source": []
  }
 ],
 "metadata": {
  "kernelspec": {
   "display_name": "Python 3 (ipykernel)",
   "language": "python",
   "name": "python3"
  },
  "language_info": {
   "codemirror_mode": {
    "name": "ipython",
    "version": 3
   },
   "file_extension": ".py",
   "mimetype": "text/x-python",
   "name": "python",
   "nbconvert_exporter": "python",
   "pygments_lexer": "ipython3",
   "version": "3.12.7"
  }
 },
 "nbformat": 4,
 "nbformat_minor": 5
}
