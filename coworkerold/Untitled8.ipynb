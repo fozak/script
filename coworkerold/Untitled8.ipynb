{
 "cells": [
  {
   "cell_type": "code",
   "execution_count": 1,
   "id": "c17d274f-459b-490e-8087-0e06c2a99470",
   "metadata": {},
   "outputs": [
    {
     "name": "stdout",
     "output_type": "stream",
     "text": [
      "Annotations from 'pdf2.pdf' merged into 'pdf1.pdf' and saved as 'merged_output.pdf'.\n"
     ]
    }
   ],
   "source": [
    "from typing import List, Dict, Any\n",
    "import pypdf\n",
    "from pypdf import PdfReader, PdfWriter\n",
    "import copy\n",
    "\n",
    "def extract_all_annotations(pdf_path: str) -> List[Dict[str, Any]]:\n",
    "    \"\"\"Extract all annotations from the PDF.\"\"\"\n",
    "    annotations = []\n",
    "    with open(pdf_path, \"rb\") as f:\n",
    "        reader = PdfReader(f)\n",
    "        for page_num, page in enumerate(reader.pages):\n",
    "            annots = page.get(\"/Annots\", [])\n",
    "            if annots:\n",
    "                for annot_ref in annots:\n",
    "                    try:\n",
    "                        annot = annot_ref.get_object()\n",
    "                        annotations.append((page_num, annot))\n",
    "                    except Exception as e:\n",
    "                        print(f\"Failed to extract annotation: {e}\")\n",
    "    return annotations\n",
    "\n",
    "\n",
    "def merge_annotations_to_pdf(base_pdf: str, source_pdf: str, output_pdf: str):\n",
    "    \"\"\"Merge annotations from source_pdf into base_pdf and save as output_pdf.\"\"\"\n",
    "    # Read PDFs\n",
    "    with open(base_pdf, \"rb\") as f1, open(source_pdf, \"rb\") as f2:\n",
    "        base_reader = PdfReader(f1)\n",
    "        source_reader = PdfReader(f2)\n",
    "        writer = PdfWriter()\n",
    "\n",
    "        # Extract annotations from source\n",
    "        annotations = extract_all_annotations(source_pdf)\n",
    "\n",
    "        # Copy pages from base PDF into writer\n",
    "        for page in base_reader.pages:\n",
    "            writer.add_page(page)\n",
    "\n",
    "        # Add annotations to respective pages\n",
    "        for page_num, annot in annotations:\n",
    "            try:\n",
    "                # Deep copy annotation dictionary so we can reuse it\n",
    "                copied_annot = copy.deepcopy(annot)\n",
    "                page = writer.pages[page_num]\n",
    "\n",
    "                if \"/Annots\" not in page:\n",
    "                    page[\"/Annots\"] = []\n",
    "\n",
    "                page[\"/Annots\"].append(writer._add_object(copied_annot))\n",
    "            except Exception as e:\n",
    "                print(f\"Failed to add annotation to page {page_num}: {e}\")\n",
    "\n",
    "        # Write merged output\n",
    "        with open(output_pdf, \"wb\") as out:\n",
    "            writer.write(out)\n",
    "\n",
    "    print(f\"Annotations from '{source_pdf}' merged into '{base_pdf}' and saved as '{output_pdf}'.\")\n",
    "\n",
    "\n",
    "# === RUN THE MERGE ===\n",
    "merge_annotations_to_pdf(\"pdf1.pdf\", \"pdf2.pdf\", \"merged_output.pdf\")\n"
   ]
  },
  {
   "cell_type": "code",
   "execution_count": null,
   "id": "b371410f-8fc6-4256-9319-90b780c620a7",
   "metadata": {},
   "outputs": [],
   "source": [
    "get "
   ]
  }
 ],
 "metadata": {
  "kernelspec": {
   "display_name": "Python 3 (ipykernel)",
   "language": "python",
   "name": "python3"
  },
  "language_info": {
   "codemirror_mode": {
    "name": "ipython",
    "version": 3
   },
   "file_extension": ".py",
   "mimetype": "text/x-python",
   "name": "python",
   "nbconvert_exporter": "python",
   "pygments_lexer": "ipython3",
   "version": "3.12.7"
  }
 },
 "nbformat": 4,
 "nbformat_minor": 5
}
