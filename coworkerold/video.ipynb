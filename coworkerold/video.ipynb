{
 "cells": [
  {
   "cell_type": "code",
   "execution_count": null,
   "id": "10491ea0-0ad6-4523-a5e8-eb5c82e42bd9",
   "metadata": {},
   "outputs": [],
   "source": [
    "!pip install moviepy"
   ]
  },
  {
   "cell_type": "code",
   "execution_count": null,
   "id": "78cfba74-d19a-4902-beb8-3e4e3768bfbb",
   "metadata": {},
   "outputs": [],
   "source": []
  },
  {
   "cell_type": "code",
   "execution_count": 4,
   "id": "5d232ca3-52c6-4d8c-94e6-09236ec530d5",
   "metadata": {},
   "outputs": [
    {
     "name": "stdout",
     "output_type": "stream",
     "text": [
      "Video has been processed and saved as output_for_youtube.mp4\n"
     ]
    }
   ],
   "source": [
    "import subprocess\n",
    "\n",
    "# File paths\n",
    "input_path = \"crm.mp4\"\n",
    "output_path = \"output_for_youtube.mp4\"\n",
    "\n",
    "# Command to cut the video (from 8 seconds onward) and resize to 720p\n",
    "command = [\n",
    "    'ffmpeg',\n",
    "    '-i', input_path,          # Input file\n",
    "    '-ss', '00:00:08',         # Start time (cut from 8 seconds)\n",
    "    '-vf', 'scale=-1:720',     # Resize to 720p, keeping the aspect ratio\n",
    "    '-c:v', 'libx264',         # Video codec\n",
    "    '-c:a', 'aac',             # Audio codec\n",
    "    '-b:v', '3000k',           # Bitrate\n",
    "    '-strict', 'experimental', # For compatibility with aac codec\n",
    "    output_path\n",
    "]\n",
    "\n",
    "# Run the ffmpeg command\n",
    "subprocess.run(command, check=True)\n",
    "\n",
    "print(f\"Video has been processed and saved as {output_path}\")\n",
    "\n"
   ]
  },
  {
   "cell_type": "code",
   "execution_count": null,
   "id": "d0e91464-86e3-43af-a220-d475bdace995",
   "metadata": {},
   "outputs": [],
   "source": [
    "#black background\n",
    "\n",
    "!ffmpeg -f lavfi -i color=c=black:s=1920x1080:d=5:r=30 -vf \"fade=t=in:st=0:d=2,drawtext=fontfile=/Windows/Fonts/arial.ttf:text='Introducing Coworker 365 Sales':fontcolor=white:fontsize=64:x=(w-text_w)/2:y=(h-text_h)/2\" -c:v libx264 -t 5 -pix_fmt yuv420p fadein_intro.mp4"
   ]
  },
  {
   "cell_type": "code",
   "execution_count": null,
   "id": "a03f5a23-a4b0-42ed-8388-e65c8d9f873d",
   "metadata": {},
   "outputs": [],
   "source": []
  },
  {
   "cell_type": "code",
   "execution_count": 2,
   "id": "d0b724b9-a214-4e82-880e-b6b8b4702c09",
   "metadata": {},
   "outputs": [
    {
     "name": "stdout",
     "output_type": "stream",
     "text": [
      "C:\\python\\python.exe\n",
      "C:\\python\\Lib\\site-packages\\moviepy\\__init__.py\n"
     ]
    }
   ],
   "source": [
    "import sys\n",
    "print(sys.executable)\n",
    "\n",
    "import moviepy\n",
    "print(moviepy.__file__)\n",
    "\n"
   ]
  },
  {
   "cell_type": "code",
   "execution_count": 10,
   "id": "2fac4d67-adb6-4270-a7e8-9071c3e91820",
   "metadata": {},
   "outputs": [
    {
     "name": "stderr",
     "output_type": "stream",
     "text": [
      "ffmpeg version 7.1-essentials_build-www.gyan.dev Copyright (c) 2000-2024 the FFmpeg developers\n",
      "  built with gcc 14.2.0 (Rev1, Built by MSYS2 project)\n",
      "  configuration: --enable-gpl --enable-version3 --enable-static --disable-w32threads --disable-autodetect --enable-fontconfig --enable-iconv --enable-gnutls --enable-libxml2 --enable-gmp --enable-bzlib --enable-lzma --enable-zlib --enable-libsrt --enable-libssh --enable-libzmq --enable-avisynth --enable-sdl2 --enable-libwebp --enable-libx264 --enable-libx265 --enable-libxvid --enable-libaom --enable-libopenjpeg --enable-libvpx --enable-mediafoundation --enable-libass --enable-libfreetype --enable-libfribidi --enable-libharfbuzz --enable-libvidstab --enable-libvmaf --enable-libzimg --enable-amf --enable-cuda-llvm --enable-cuvid --enable-dxva2 --enable-d3d11va --enable-d3d12va --enable-ffnvcodec --enable-libvpl --enable-nvdec --enable-nvenc --enable-vaapi --enable-libgme --enable-libopenmpt --enable-libopencore-amrwb --enable-libmp3lame --enable-libtheora --enable-libvo-amrwbenc --enable-libgsm --enable-libopencore-amrnb --enable-libopus --enable-libspeex --enable-libvorbis --enable-librubberband\n",
      "  libavutil      59. 39.100 / 59. 39.100\n",
      "  libavcodec     61. 19.100 / 61. 19.100\n",
      "  libavformat    61.  7.100 / 61.  7.100\n",
      "  libavdevice    61.  3.100 / 61.  3.100\n",
      "  libavfilter    10.  4.100 / 10.  4.100\n",
      "  libswscale      8.  3.100 /  8.  3.100\n",
      "  libswresample   5.  3.100 /  5.  3.100\n",
      "  libpostproc    58.  3.100 / 58.  3.100\n",
      "Input #0, lavfi, from 'color=color=0xB04FAF:s=1920x1080:duration=5:rate=30':\n",
      "  Duration: N/A, start: 0.000000, bitrate: N/A\n",
      "  Stream #0:0: Video: wrapped_avframe, yuv420p, 1920x1080 [SAR 1:1 DAR 16:9], 30 fps, 30 tbr, 30 tbn\n",
      "Stream mapping:\n",
      "  Stream #0:0 -> #0:0 (wrapped_avframe (native) -> h264 (libx264))\n",
      "Press [q] to stop, [?] for help\n",
      "[libx264 @ 000002860e46fec0] using SAR=1/1\n",
      "[libx264 @ 000002860e46fec0] using cpu capabilities: MMX2 SSE2Fast SSSE3 SSE4.2 AVX FMA3 BMI2 AVX2\n",
      "[libx264 @ 000002860e46fec0] profile High, level 4.0, 4:2:0, 8-bit\n",
      "[libx264 @ 000002860e46fec0] 264 - core 164 r3192 c24e06c - H.264/MPEG-4 AVC codec - Copyleft 2003-2024 - http://www.videolan.org/x264.html - options: cabac=1 ref=3 deblock=1:0:0 analyse=0x3:0x113 me=hex subme=7 psy=1 psy_rd=1.00:0.00 mixed_ref=1 me_range=16 chroma_me=1 trellis=1 8x8dct=1 cqm=0 deadzone=21,11 fast_pskip=1 chroma_qp_offset=-2 threads=24 lookahead_threads=4 sliced_threads=0 nr=0 decimate=1 interlaced=0 bluray_compat=0 constrained_intra=0 bframes=3 b_pyramid=2 b_adapt=1 b_bias=0 direct=1 weightb=1 open_gop=0 weightp=2 keyint=250 keyint_min=25 scenecut=40 intra_refresh=0 rc_lookahead=40 rc=crf mbtree=1 crf=23.0 qcomp=0.60 qpmin=0 qpmax=69 qpstep=4 ip_ratio=1.40 aq=1:1.00\n",
      "Output #0, mp4, to 'fadein_intro.mp4':\n",
      "  Metadata:\n",
      "    encoder         : Lavf61.7.100\n",
      "  Stream #0:0: Video: h264 (avc1 / 0x31637661), yuv420p(tv, progressive), 1920x1080 [SAR 1:1 DAR 16:9], q=2-31, 30 fps, 15360 tbn\n",
      "      Metadata:\n",
      "        encoder         : Lavc61.19.100 libx264\n",
      "      Side data:\n",
      "        cpb: bitrate max/min/avg: 0/0/0 buffer size: 0 vbv_delay: N/A\n",
      "frame=   23 fps=0.0 q=29.0 size=       0KiB time=00:00:00.70 bitrate=   0.5kbits/s speed=1.35x    \n",
      "[out#0/mp4 @ 000002860e46c5c0] video:60KiB audio:0KiB subtitle:0KiB other streams:0KiB global headers:0KiB muxing overhead: 4.218742%\n",
      "frame=  150 fps=0.0 q=-1.0 Lsize=      62KiB time=00:00:04.93 bitrate= 103.7kbits/s speed=6.15x    \n",
      "[libx264 @ 000002860e46fec0] frame I:1     Avg QP:16.40  size: 11305\n",
      "[libx264 @ 000002860e46fec0] frame P:41    Avg QP:14.16  size:   323\n",
      "[libx264 @ 000002860e46fec0] frame B:108   Avg QP:13.73  size:   334\n",
      "[libx264 @ 000002860e46fec0] consecutive B-frames:  0.7%  2.7% 22.0% 74.7%\n",
      "[libx264 @ 000002860e46fec0] mb I  I16..4: 48.6% 47.7%  3.6%\n",
      "[libx264 @ 000002860e46fec0] mb P  I16..4:  0.0%  0.0%  0.0%  P16..4:  0.5%  0.0%  0.0%  0.0%  0.0%    skip:99.4%\n",
      "[libx264 @ 000002860e46fec0] mb B  I16..4:  0.0%  0.0%  0.0%  B16..8:  0.0%  0.0%  0.0%  direct:16.0%  skip:84.0%  L0:38.1% L1:59.5% BI: 2.4%\n",
      "[libx264 @ 000002860e46fec0] 8x8 transform intra:45.7% inter:71.0%\n",
      "[libx264 @ 000002860e46fec0] coded y,uvDC,uvAC intra: 2.2% 0.2% 0.1% inter: 0.0% 11.7% 0.1%\n",
      "[libx264 @ 000002860e46fec0] i16 v,h,dc,p: 97%  0%  3%  0%\n",
      "[libx264 @ 000002860e46fec0] i8 v,h,dc,ddl,ddr,vr,hd,vl,hu: 60%  2% 38%  0%  0%  0%  0%  0%  0%\n",
      "[libx264 @ 000002860e46fec0] i4 v,h,dc,ddl,ddr,vr,hd,vl,hu: 45% 17% 14%  4%  4%  4%  5%  3%  4%\n",
      "[libx264 @ 000002860e46fec0] i8c dc,h,v,p: 98%  0%  2%  0%\n",
      "[libx264 @ 000002860e46fec0] Weighted P-Frames: Y:46.3% UV:46.3%\n",
      "[libx264 @ 000002860e46fec0] ref P L0: 90.0%  9.9%  0.1%  0.0%\n",
      "[libx264 @ 000002860e46fec0] kb/s:97.09\n"
     ]
    }
   ],
   "source": [
    "#RUN IN CMD\n",
    "\n",
    "!ffmpeg -f lavfi -i \"color=color=0xB04FAF:s=1920x1080:duration=5:rate=30\" -vf \"fade=t=in:st=0:d=2,drawtext=fontfile=C\\\\:/Windows/Fonts/arial.ttf:text=Introducing Coworker 365 Sales:fontcolor=white:fontsize=90:x=(w-text_w)/2:y=(h-text_h)/2\" -c:v libx264 -pix_fmt yuv420p -t 5 fadein_intro.mp4\n"
   ]
  },
  {
   "cell_type": "code",
   "execution_count": null,
   "id": "f39a9648-dac5-4f45-8148-27165deabba5",
   "metadata": {},
   "outputs": [],
   "source": [
    "import moviepy\n",
    "print(moviepy.__file__)\n"
   ]
  }
 ],
 "metadata": {
  "kernelspec": {
   "display_name": "Python 3 (ipykernel)",
   "language": "python",
   "name": "python3"
  },
  "language_info": {
   "codemirror_mode": {
    "name": "ipython",
    "version": 3
   },
   "file_extension": ".py",
   "mimetype": "text/x-python",
   "name": "python",
   "nbconvert_exporter": "python",
   "pygments_lexer": "ipython3",
   "version": "3.12.7"
  }
 },
 "nbformat": 4,
 "nbformat_minor": 5
}
