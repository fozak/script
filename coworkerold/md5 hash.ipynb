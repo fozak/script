{
 "cells": [
  {
   "cell_type": "code",
   "execution_count": 1,
   "id": "272f559b-8360-47c5-bae7-811f7763ccdb",
   "metadata": {},
   "outputs": [
    {
     "name": "stdout",
     "output_type": "stream",
     "text": [
      "MD5 Hash: 81864a16c3b3d03ee5aa06d984aeccc7\n"
     ]
    }
   ],
   "source": [
    "import hashlib\n",
    "\n",
    "def calculate_md5_hash(filepath):\n",
    "    \"\"\"Calculate and return MD5 hash of a file.\"\"\"\n",
    "    hash_md5 = hashlib.md5(usedforsecurity=False)\n",
    "    try:\n",
    "        with open(filepath, \"rb\") as f:\n",
    "            for chunk in iter(lambda: f.read(4096), b\"\"):\n",
    "                hash_md5.update(chunk)\n",
    "        return hash_md5.hexdigest()\n",
    "    except FileNotFoundError:\n",
    "        return \"File not found.\"\n",
    "    except Exception as e:\n",
    "        return f\"Error: {e}\"\n",
    "\n",
    "# 🧪 Example usage:\n",
    "file_path = \"1pagedrawing.pdf\"  # <- Replace this with your file path\n",
    "md5_hash = calculate_md5_hash(file_path)\n",
    "print(f\"MD5 Hash: {md5_hash}\")\n"
   ]
  },
  {
   "cell_type": "code",
   "execution_count": null,
   "id": "06d387ff-f64d-432d-88cc-9544efc1ef9a",
   "metadata": {},
   "outputs": [],
   "source": []
  }
 ],
 "metadata": {
  "kernelspec": {
   "display_name": "Python 3 (ipykernel)",
   "language": "python",
   "name": "python3"
  },
  "language_info": {
   "codemirror_mode": {
    "name": "ipython",
    "version": 3
   },
   "file_extension": ".py",
   "mimetype": "text/x-python",
   "name": "python",
   "nbconvert_exporter": "python",
   "pygments_lexer": "ipython3",
   "version": "3.12.7"
  }
 },
 "nbformat": 4,
 "nbformat_minor": 5
}
