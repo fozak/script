{
 "cells": [
  {
   "cell_type": "code",
   "execution_count": 1,
   "id": "b2f99f33-d0c5-4532-b7db-224dcc8def59",
   "metadata": {},
   "outputs": [
    {
     "name": "stdout",
     "output_type": "stream",
     "text": [
      "✅ Saved 829 INSERT INTO blocks to create_tables_only.txt\n"
     ]
    }
   ],
   "source": [
    "def extract_insert_table_only(sql_file_path, output_path):\n",
    "    \"\"\"\n",
    "    Extracts only INSERT TABLE blocks from a SQL file and saves them to a new file.\n",
    "\n",
    "    Args:\n",
    "        sql_file_path (str): Path to the input SQL file.\n",
    "        output_path (str): Path to the output file.\n",
    "    \"\"\"\n",
    "    with open(sql_file_path, 'r', encoding='utf-8') as f:\n",
    "        lines = f.readlines()\n",
    "\n",
    "    in_block = False\n",
    "    current_block = []\n",
    "    blocks = []\n",
    "\n",
    "    for line in lines:\n",
    "        stripped = line.strip()\n",
    "\n",
    "        # Detect the start of an INSERT INTO block (more robust)\n",
    "        if not in_block and stripped.upper().startswith('CREATE TABLE'):\n",
    "            in_block = True\n",
    "            current_block = [line]\n",
    "            continue\n",
    "\n",
    "        # Collect lines inside INSERT INTO\n",
    "        elif in_block:\n",
    "            current_block.append(line)\n",
    "            # End block when a semicolon is encountered (most likely)\n",
    "            if stripped.endswith(';'):\n",
    "                in_block = False\n",
    "                blocks.append(''.join(current_block))\n",
    "                current_block = []\n",
    "\n",
    "    # Write all collected blocks to a file\n",
    "    with open(output_path, 'w', encoding='utf-8') as out:\n",
    "        out.write('\\n\\n'.join(blocks))\n",
    "\n",
    "    print(f\"✅ Saved {len(blocks)} INSERT INTO blocks to {output_path}\")\n",
    "\n",
    "\n",
    "# === Usage ===\n",
    "input_sql_file = 'erp.sql'           # <-- change this to your SQL file\n",
    "output_txt_file = 'create_tables_only.txt' # <-- output result file\n",
    "\n",
    "extract_insert_table_only(input_sql_file, output_txt_file)"
   ]
  },
  {
   "cell_type": "code",
   "execution_count": null,
   "id": "88016afd-d3e7-4b3c-9c47-f402e0fa1376",
   "metadata": {},
   "outputs": [],
   "source": []
  }
 ],
 "metadata": {
  "kernelspec": {
   "display_name": "Python 3 (ipykernel)",
   "language": "python",
   "name": "python3"
  },
  "language_info": {
   "codemirror_mode": {
    "name": "ipython",
    "version": 3
   },
   "file_extension": ".py",
   "mimetype": "text/x-python",
   "name": "python",
   "nbconvert_exporter": "python",
   "pygments_lexer": "ipython3",
   "version": "3.12.7"
  }
 },
 "nbformat": 4,
 "nbformat_minor": 5
}
