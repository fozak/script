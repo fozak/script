{
 "cells": [
  {
   "cell_type": "code",
   "execution_count": 2,
   "id": "4826e0fb-d341-41c9-83c0-f2ce6cfe64f9",
   "metadata": {},
   "outputs": [
    {
     "name": "stdout",
     "output_type": "stream",
     "text": [
      "Data saved to zotero_tables_summary.txt\n"
     ]
    }
   ],
   "source": [
    "import sqlite3\n",
    "import os\n",
    "\n",
    "# Path to Zotero database and output file\n",
    "db_path = r'C:\\Users\\i7714\\Zotero\\zotero.sqlite'\n",
    "output_path = 'zotero_tables_summary.txt'\n",
    "\n",
    "if not os.path.exists(db_path):\n",
    "    raise FileNotFoundError(f\"Database not found at {db_path}\")\n",
    "\n",
    "# Connect to the SQLite database\n",
    "conn = sqlite3.connect(db_path)\n",
    "cursor = conn.cursor()\n",
    "\n",
    "# Get list of all table names\n",
    "cursor.execute(\"SELECT name FROM sqlite_master WHERE type='table';\")\n",
    "tables = cursor.fetchall()\n",
    "\n",
    "with open(output_path, 'w', encoding='utf-8') as f:\n",
    "    for table in tables:\n",
    "        table_name = table[0]\n",
    "        f.write(f\"Table: {table_name}\\n\")\n",
    "\n",
    "        # Get column headers\n",
    "        cursor.execute(f\"PRAGMA table_info({table_name});\")\n",
    "        columns_info = cursor.fetchall()\n",
    "        column_names = [col[1] for col in columns_info]\n",
    "        f.write(f\"Headers: {column_names}\\n\")\n",
    "\n",
    "        # Get one data row (if any)\n",
    "        try:\n",
    "            cursor.execute(f\"SELECT * FROM {table_name} LIMIT 1;\")\n",
    "            row = cursor.fetchone()\n",
    "            f.write(f\"Sample row: {row}\\n\")\n",
    "        except Exception as e:\n",
    "            f.write(f\"Error reading data: {e}\\n\")\n",
    "\n",
    "        f.write(\"----\\n\")  # Separator\n",
    "\n",
    "conn.close()\n",
    "\n",
    "print(f\"Data saved to {output_path}\")\n"
   ]
  },
  {
   "cell_type": "code",
   "execution_count": null,
   "id": "9227fc2c-79f2-479b-9074-69140d0a2909",
   "metadata": {},
   "outputs": [],
   "source": []
  }
 ],
 "metadata": {
  "kernelspec": {
   "display_name": "Python 3 (ipykernel)",
   "language": "python",
   "name": "python3"
  },
  "language_info": {
   "codemirror_mode": {
    "name": "ipython",
    "version": 3
   },
   "file_extension": ".py",
   "mimetype": "text/x-python",
   "name": "python",
   "nbconvert_exporter": "python",
   "pygments_lexer": "ipython3",
   "version": "3.12.7"
  }
 },
 "nbformat": 4,
 "nbformat_minor": 5
}
