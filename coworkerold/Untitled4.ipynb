{
 "cells": [
  {
   "cell_type": "code",
   "execution_count": 1,
   "id": "797b1130-d8ae-4af2-b3fd-b44899965e76",
   "metadata": {},
   "outputs": [
    {
     "name": "stdout",
     "output_type": "stream",
     "text": [
      "✅ Combined XML and content saved to: model_data_rawxml.txt\n"
     ]
    }
   ],
   "source": [
    "import zipfile\n",
    "from pathlib import Path\n",
    "\n",
    "xlsx_path = 'model.xlsx'\n",
    "unpack_dir = Path('model_unpacked')\n",
    "output_txt = 'model_data_rawxml.txt'\n",
    "\n",
    "# Step 1: Unpack XLSX file (which is a zip archive)\n",
    "with zipfile.ZipFile(xlsx_path, 'r') as zip_ref:\n",
    "    zip_ref.extractall(unpack_dir)\n",
    "\n",
    "# Step 2: Read all unpacked files and collect content\n",
    "output_lines = []\n",
    "\n",
    "for file_path in sorted(unpack_dir.rglob('*')):\n",
    "    if file_path.is_file():\n",
    "        rel_path = file_path.relative_to(unpack_dir)\n",
    "        output_lines.append(f\"\\n---- {xlsx_path}/{rel_path} ----\\n\")\n",
    "        try:\n",
    "            text = file_path.read_text(encoding='utf-8')\n",
    "        except UnicodeDecodeError:\n",
    "            text = file_path.read_bytes().decode('utf-8', errors='replace')\n",
    "        output_lines.append(text)\n",
    "\n",
    "# Step 3: Save to output TXT file\n",
    "with open(output_txt, 'w', encoding='utf-8') as f:\n",
    "    f.write(\"\".join(output_lines))\n",
    "\n",
    "print(f\"✅ Combined XML and content saved to: {output_txt}\")\n"
   ]
  },
  {
   "cell_type": "code",
   "execution_count": null,
   "id": "7c2bef59-c24f-487d-ab99-a6fe4ebf4cb7",
   "metadata": {},
   "outputs": [],
   "source": []
  }
 ],
 "metadata": {
  "kernelspec": {
   "display_name": "Python 3 (ipykernel)",
   "language": "python",
   "name": "python3"
  },
  "language_info": {
   "codemirror_mode": {
    "name": "ipython",
    "version": 3
   },
   "file_extension": ".py",
   "mimetype": "text/x-python",
   "name": "python",
   "nbconvert_exporter": "python",
   "pygments_lexer": "ipython3",
   "version": "3.12.7"
  }
 },
 "nbformat": 4,
 "nbformat_minor": 5
}
