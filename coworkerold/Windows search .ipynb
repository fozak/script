{
 "cells": [
  {
   "cell_type": "code",
   "execution_count": 1,
   "id": "d05cb65a-fcfc-48af-8d9a-53e8d44220ae",
   "metadata": {},
   "outputs": [
    {
     "name": "stdout",
     "output_type": "stream",
     "text": [
      "Requirement already satisfied: pywin32 in c:\\python\\lib\\site-packages (308)\n"
     ]
    },
    {
     "name": "stderr",
     "output_type": "stream",
     "text": [
      "\n",
      "[notice] A new release of pip is available: 25.0.1 -> 25.1.1\n",
      "[notice] To update, run: python.exe -m pip install --upgrade pip\n"
     ]
    }
   ],
   "source": [
    "!pip install pywin32\n"
   ]
  },
  {
   "cell_type": "code",
   "execution_count": 2,
   "id": "5596a5bc-0081-4e90-88fc-3dfa5c9315d1",
   "metadata": {},
   "outputs": [],
   "source": [
    "import win32com.client\n",
    "\n",
    "def search_index(query=\"SELECT System.ItemPathDisplay FROM SYSTEMINDEX\", limit=10):\n",
    "    \"\"\"\n",
    "    Query the Windows Search Index using COM ADO.\n",
    "    \n",
    "    Parameters:\n",
    "        query (str): SQL-like query string.\n",
    "        limit (int): Maximum number of results to return.\n",
    "    \n",
    "    Returns:\n",
    "        list of file paths (strings).\n",
    "    \"\"\"\n",
    "    conn = win32com.client.Dispatch(\"ADODB.Connection\")\n",
    "    rs = win32com.client.Dispatch(\"ADODB.Recordset\")\n",
    "\n",
    "    # Open the Windows Search Index\n",
    "    conn.Open(\"Provider=Search.CollatorDSO;Extended Properties='Application=Windows';\")\n",
    "    \n",
    "    # Execute the query\n",
    "    rs.Open(query, conn)\n",
    "\n",
    "    # Fetch results\n",
    "    results = []\n",
    "    count = 0\n",
    "    while not rs.EOF and count < limit:\n",
    "        path = rs.Fields.Item(\"System.ItemPathDisplay\").Value\n",
    "        if path:\n",
    "            results.append(path)\n",
    "            count += 1\n",
    "        rs.MoveNext()\n",
    "    \n",
    "    # Cleanup\n",
    "    rs.Close()\n",
    "    conn.Close()\n",
    "    \n",
    "    return results\n"
   ]
  },
  {
   "cell_type": "code",
   "execution_count": 3,
   "id": "030f56e0-fcd4-4b5b-8896-9ed4fda9b648",
   "metadata": {},
   "outputs": [
    {
     "name": "stdout",
     "output_type": "stream",
     "text": [
      "1. C:\\Users\\i7714\\Downloads\\2505090607316391625-orderReceipt (1).pdf\n",
      "2. C:\\Users\\i7714\\Downloads\\2505090607316391625-orderReceipt.pdf\n",
      "3. C:\\Users\\i7714\\Downloads\\website_download_docs_frappe\\website_download\\docs.frappe.io\\files\\Bench Cheatsheet v1.1.pdf\n",
      "4. C:\\Users\\i7714\\Downloads\\12 aBrycra 1971 rona (1).pdf\n",
      "5. C:\\Users\\i7714\\Downloads\\Барнаул комплект. pdf (2).pdf\n",
      "6. C:\\Users\\i7714\\Downloads\\12 aBrycra 1971 rona.pdf\n",
      "7. C:\\Users\\i7714\\Downloads\\sage-strategic-report-2024.pdf\n",
      "8. C:\\Users\\i7714\\Downloads\\sage-annual-report-2024.pdf\n",
      "9. C:\\Users\\i7714\\Downloads\\07-A4.PDF\n",
      "10. C:\\Users\\i7714\\Downloads\\04-A1.PDF\n"
     ]
    }
   ],
   "source": [
    "query = \"\"\"\n",
    "SELECT System.ItemPathDisplay \n",
    "FROM SYSTEMINDEX \n",
    "WHERE System.FileExtension = '.pdf'\n",
    "ORDER BY System.DateModified DESC\n",
    "\"\"\"\n",
    "\n",
    "pdf_files = search_index(query, limit=10)\n",
    "\n",
    "# Display results\n",
    "for i, path in enumerate(pdf_files, 1):\n",
    "    print(f\"{i}. {path}\")\n"
   ]
  },
  {
   "cell_type": "code",
   "execution_count": null,
   "id": "1f41b3a4-fbe4-4bc2-8ba3-28fe714d731e",
   "metadata": {},
   "outputs": [],
   "source": []
  }
 ],
 "metadata": {
  "kernelspec": {
   "display_name": "Python 3 (ipykernel)",
   "language": "python",
   "name": "python3"
  },
  "language_info": {
   "codemirror_mode": {
    "name": "ipython",
    "version": 3
   },
   "file_extension": ".py",
   "mimetype": "text/x-python",
   "name": "python",
   "nbconvert_exporter": "python",
   "pygments_lexer": "ipython3",
   "version": "3.12.7"
  }
 },
 "nbformat": 4,
 "nbformat_minor": 5
}
