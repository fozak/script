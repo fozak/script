{
 "cells": [
  {
   "cell_type": "code",
   "execution_count": 13,
   "id": "f092c90d-8d28-456a-94ec-c5ee6cc2727e",
   "metadata": {},
   "outputs": [
    {
     "ename": "AttributeError",
     "evalue": "'Annot' object has no attribute 'copy'",
     "output_type": "error",
     "traceback": [
      "\u001b[1;31m---------------------------------------------------------------------------\u001b[0m",
      "\u001b[1;31mAttributeError\u001b[0m                            Traceback (most recent call last)",
      "Cell \u001b[1;32mIn[13], line 25\u001b[0m\n\u001b[0;32m     22\u001b[0m     dst_doc\u001b[38;5;241m.\u001b[39mclose()\n\u001b[0;32m     24\u001b[0m \u001b[38;5;66;03m# Usage example\u001b[39;00m\n\u001b[1;32m---> 25\u001b[0m \u001b[43mcopy_annotations\u001b[49m\u001b[43m(\u001b[49m\u001b[38;5;124;43m\"\u001b[39;49m\u001b[38;5;124;43mpdf2.pdf\u001b[39;49m\u001b[38;5;124;43m\"\u001b[39;49m\u001b[43m,\u001b[49m\u001b[43m \u001b[49m\u001b[38;5;124;43m\"\u001b[39;49m\u001b[38;5;124;43mpdf1.pdf\u001b[39;49m\u001b[38;5;124;43m\"\u001b[39;49m\u001b[43m,\u001b[49m\u001b[43m \u001b[49m\u001b[38;5;124;43m\"\u001b[39;49m\u001b[38;5;124;43moutput_with_annotations.pdf\u001b[39;49m\u001b[38;5;124;43m\"\u001b[39;49m\u001b[43m)\u001b[49m\n",
      "Cell \u001b[1;32mIn[13], line 16\u001b[0m, in \u001b[0;36mcopy_annotations\u001b[1;34m(source_pdf_path, destination_pdf_path, output_pdf_path)\u001b[0m\n\u001b[0;32m     13\u001b[0m     \u001b[38;5;28;01mcontinue\u001b[39;00m\n\u001b[0;32m     15\u001b[0m \u001b[38;5;28;01mfor\u001b[39;00m annot \u001b[38;5;129;01min\u001b[39;00m annots:\n\u001b[1;32m---> 16\u001b[0m     new_annot \u001b[38;5;241m=\u001b[39m \u001b[43mannot\u001b[49m\u001b[38;5;241;43m.\u001b[39;49m\u001b[43mcopy\u001b[49m(dst_page)  \u001b[38;5;66;03m# this is valid in 1.25.2\u001b[39;00m\n\u001b[0;32m     17\u001b[0m     dst_page\u001b[38;5;241m.\u001b[39madd_annot(new_annot)\n\u001b[0;32m     18\u001b[0m     \u001b[38;5;28mprint\u001b[39m(\u001b[38;5;124mf\u001b[39m\u001b[38;5;124m\"\u001b[39m\u001b[38;5;124mCopied annotation \u001b[39m\u001b[38;5;132;01m{\u001b[39;00mannot\u001b[38;5;241m.\u001b[39mxref\u001b[38;5;132;01m}\u001b[39;00m\u001b[38;5;124m to page \u001b[39m\u001b[38;5;132;01m{\u001b[39;00mi\u001b[38;5;241m+\u001b[39m\u001b[38;5;241m1\u001b[39m\u001b[38;5;132;01m}\u001b[39;00m\u001b[38;5;124m as \u001b[39m\u001b[38;5;132;01m{\u001b[39;00mnew_annot\u001b[38;5;241m.\u001b[39mxref\u001b[38;5;132;01m}\u001b[39;00m\u001b[38;5;124m\"\u001b[39m)\n",
      "\u001b[1;31mAttributeError\u001b[0m: 'Annot' object has no attribute 'copy'"
     ]
    }
   ],
   "source": [
    "import fitz\n",
    "\n",
    "def copy_annotations(source_pdf_path, destination_pdf_path, output_pdf_path):\n",
    "    src_doc = fitz.open(source_pdf_path)\n",
    "    dst_doc = fitz.open(destination_pdf_path)\n",
    "\n",
    "    for i in range(min(len(src_doc), len(dst_doc))):\n",
    "        src_page = src_doc[i]\n",
    "        dst_page = dst_doc[i]\n",
    "\n",
    "        annots = src_page.annots()\n",
    "        if annots is None:\n",
    "            continue\n",
    "\n",
    "        for annot in annots:\n",
    "            new_annot = annot.copy(dst_page)  # this is valid in 1.25.2\n",
    "            dst_page.add_annot(new_annot)\n",
    "            print(f\"Copied annotation {annot.xref} to page {i+1} as {new_annot.xref}\")\n",
    "\n",
    "    dst_doc.save(output_pdf_path)\n",
    "    src_doc.close()\n",
    "    dst_doc.close()\n",
    "\n",
    "# Usage example\n",
    "copy_annotations(\"pdf2.pdf\", \"pdf1.pdf\", \"output_with_annotations.pdf\")\n"
   ]
  },
  {
   "cell_type": "code",
   "execution_count": 14,
   "id": "f8ba8c78-08de-4208-81df-316ca4db600a",
   "metadata": {},
   "outputs": [
    {
     "name": "stdout",
     "output_type": "stream",
     "text": [
      "Annotation found: 'Square' annotation on page 0 of pdf1.pdf\n",
      "Has copy method: False\n"
     ]
    }
   ],
   "source": [
    "import fitz\n",
    "\n",
    "doc = fitz.open(\"pdf1.pdf\")\n",
    "page = doc[0]\n",
    "annot = next(page.annots(), None)\n",
    "\n",
    "if annot is None:\n",
    "    print(\"No annotation found\")\n",
    "else:\n",
    "    print(f\"Annotation found: {annot}\")\n",
    "    print(\"Has copy method:\", hasattr(annot, \"copy\"))\n"
   ]
  },
  {
   "cell_type": "code",
   "execution_count": null,
   "id": "217cb68f-6f67-4164-9096-5c9494c0b158",
   "metadata": {},
   "outputs": [],
   "source": []
  }
 ],
 "metadata": {
  "kernelspec": {
   "display_name": "Python 3 (ipykernel)",
   "language": "python",
   "name": "python3"
  },
  "language_info": {
   "codemirror_mode": {
    "name": "ipython",
    "version": 3
   },
   "file_extension": ".py",
   "mimetype": "text/x-python",
   "name": "python",
   "nbconvert_exporter": "python",
   "pygments_lexer": "ipython3",
   "version": "3.12.7"
  }
 },
 "nbformat": 4,
 "nbformat_minor": 5
}
