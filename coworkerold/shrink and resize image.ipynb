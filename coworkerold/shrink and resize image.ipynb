{
 "cells": [
  {
   "cell_type": "code",
   "execution_count": 3,
   "id": "69c0d680-0817-4a32-9628-22ece867a6db",
   "metadata": {},
   "outputs": [],
   "source": [
    "from PIL import Image\n",
    "\n",
    "# Open the image\n",
    "img = Image.open(\"t2.jpg\")\n",
    "\n",
    "# Resize to 50% of original dimensions\n",
    "img_resized = img.resize((img.width // 2, img.height // 2), Image.LANCZOS)\n",
    "\n",
    "# Save with reduced quality (e.g., 70 out of 100)\n",
    "img_resized.save(\"output.jpg\", quality=20, optimize=True)\n"
   ]
  },
  {
   "cell_type": "code",
   "execution_count": null,
   "id": "063bcb96-3b8b-4e1e-a4ec-e80ac2aacffa",
   "metadata": {},
   "outputs": [],
   "source": []
  }
 ],
 "metadata": {
  "kernelspec": {
   "display_name": "Python 3 (ipykernel)",
   "language": "python",
   "name": "python3"
  },
  "language_info": {
   "codemirror_mode": {
    "name": "ipython",
    "version": 3
   },
   "file_extension": ".py",
   "mimetype": "text/x-python",
   "name": "python",
   "nbconvert_exporter": "python",
   "pygments_lexer": "ipython3",
   "version": "3.12.7"
  }
 },
 "nbformat": 4,
 "nbformat_minor": 5
}
