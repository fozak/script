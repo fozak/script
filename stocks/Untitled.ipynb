{
 "cells": [
  {
   "cell_type": "code",
   "execution_count": 1,
   "id": "d3f12d55-08b3-42ac-8fac-69fea4645233",
   "metadata": {},
   "outputs": [
    {
     "name": "stdout",
     "output_type": "stream",
     "text": [
      "640\n"
     ]
    }
   ],
   "source": [
    "text = \"\"\"notifications total\n",
    "Skip to search\n",
    "Skip to main content\n",
    "Keyboard shortcuts\n",
    "Close jump menu\n",
    "new feed updates notifications\n",
    "Home\n",
    "My Network\n",
    "Jobs\n",
    "Messaging\n",
    "1\n",
    "1 new notification\n",
    "Notifications\n",
    "Jeremy Beardsley \n",
    " 3rd degree connection\n",
    "3rd\n",
    "Founder/Investor\n",
    "University of Utah\n",
    "Sandy, Utah, United States  Contact info\n",
    "500+ connections\n",
    "Message\n",
    "Follow\n",
    "Activity\n",
    "Activity\n",
    "\n",
    "4,780 followers\n",
    "4,780 followers\n",
    "\n",
    "Jeremy hasn’t posted yet\n",
    "Recent posts Jeremy shares will be displayed here.\n",
    "Show all activity\n",
    "Experience\n",
    "Experience\n",
    "Director of Business Development\n",
    "Director of Business Development\n",
    "AutoMarket · Full-time\n",
    "AutoMarket · Full-time\n",
    "Jan 2021 - Present\"\"\"\n",
    "\n",
    "character_count = len(text)\n",
    "print(character_count)"
   ]
  },
  {
   "cell_type": "code",
   "execution_count": null,
   "id": "5431582b-9a8e-4c92-b677-ba070a5f04f7",
   "metadata": {},
   "outputs": [],
   "source": []
  }
 ],
 "metadata": {
  "kernelspec": {
   "display_name": "Python 3 (ipykernel)",
   "language": "python",
   "name": "python3"
  },
  "language_info": {
   "codemirror_mode": {
    "name": "ipython",
    "version": 3
   },
   "file_extension": ".py",
   "mimetype": "text/x-python",
   "name": "python",
   "nbconvert_exporter": "python",
   "pygments_lexer": "ipython3",
   "version": "3.12.7"
  }
 },
 "nbformat": 4,
 "nbformat_minor": 5
}
