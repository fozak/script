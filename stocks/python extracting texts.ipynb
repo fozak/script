{
 "cells": [
  {
   "cell_type": "code",
   "execution_count": 1,
   "id": "fa47dc7c-c66d-4ad0-9d72-a5891e54b101",
   "metadata": {},
   "outputs": [
    {
     "name": "stdout",
     "output_type": "stream",
     "text": [
      "Text extracted and saved to extracted_text.txt\n"
     ]
    }
   ],
   "source": [
    "from bs4 import BeautifulSoup\n",
    "\n",
    "# Specify the path to your HTML file\n",
    "html_file_path = 'C:/Users/i7714/Downloads/stock season… - JupyterLab.html'\n",
    "output_file_path = 'extracted_text.txt'\n",
    "\n",
    "# Read the HTML file\n",
    "with open(html_file_path, 'r', encoding='utf-8') as file:\n",
    "    html_content = file.read()\n",
    "\n",
    "# Parse the HTML content\n",
    "soup = BeautifulSoup(html_content, 'lxml')\n",
    "\n",
    "# Extract text from the body\n",
    "extracted_text = soup.body.get_text(separator='\\n', strip=True)\n",
    "\n",
    "# Save the extracted text to a text file\n",
    "with open(output_file_path, 'w', encoding='utf-8') as output_file:\n",
    "    output_file.write(extracted_text)\n",
    "\n",
    "print(f'Text extracted and saved to {output_file_path}')"
   ]
  },
  {
   "cell_type": "code",
   "execution_count": null,
   "id": "8f4615c1-8352-44b3-85d3-be30e96fa3db",
   "metadata": {},
   "outputs": [],
   "source": []
  }
 ],
 "metadata": {
  "kernelspec": {
   "display_name": "Python 3 (ipykernel)",
   "language": "python",
   "name": "python3"
  },
  "language_info": {
   "codemirror_mode": {
    "name": "ipython",
    "version": 3
   },
   "file_extension": ".py",
   "mimetype": "text/x-python",
   "name": "python",
   "nbconvert_exporter": "python",
   "pygments_lexer": "ipython3",
   "version": "3.12.7"
  }
 },
 "nbformat": 4,
 "nbformat_minor": 5
}
