{
 "cells": [
  {
   "cell_type": "code",
   "execution_count": 3,
   "id": "d8431338-7208-44ae-af2d-9358a06a3bb4",
   "metadata": {},
   "outputs": [
    {
     "name": "stdout",
     "output_type": "stream",
     "text": [
      "Date\n",
      "1992-12-31 00:00:00-05:00     3301.110107\n",
      "1993-12-31 00:00:00-05:00     3754.090088\n",
      "1994-12-31 00:00:00-05:00     3834.439941\n",
      "1995-12-31 00:00:00-05:00     5117.120117\n",
      "1996-12-31 00:00:00-05:00     6448.270020\n",
      "1997-12-31 00:00:00-05:00     7908.299805\n",
      "1998-12-31 00:00:00-05:00     9181.429688\n",
      "1999-12-31 00:00:00-05:00    11497.120117\n",
      "2000-12-31 00:00:00-05:00    10787.990234\n",
      "2001-12-31 00:00:00-05:00    10021.570312\n",
      "2002-12-31 00:00:00-05:00     8341.629883\n",
      "2003-12-31 00:00:00-05:00    10453.919922\n",
      "2004-12-31 00:00:00-05:00    10783.009766\n",
      "2005-12-31 00:00:00-05:00    10717.500000\n",
      "2006-12-31 00:00:00-05:00    12463.150391\n",
      "2007-12-31 00:00:00-05:00    13264.820312\n",
      "2008-12-31 00:00:00-05:00     8776.389648\n",
      "2009-12-31 00:00:00-05:00    10428.049805\n",
      "2010-12-31 00:00:00-05:00    11577.509766\n",
      "2011-12-31 00:00:00-05:00    12217.559570\n",
      "2012-12-31 00:00:00-05:00    13104.139648\n",
      "2013-12-31 00:00:00-05:00    16576.660156\n",
      "2014-12-31 00:00:00-05:00    17823.070312\n",
      "2015-12-31 00:00:00-05:00    17425.029297\n",
      "2016-12-31 00:00:00-05:00    19762.599609\n",
      "2017-12-31 00:00:00-05:00    24719.220703\n",
      "2018-12-31 00:00:00-05:00    23327.460938\n",
      "2019-12-31 00:00:00-05:00    28538.439453\n",
      "2020-12-31 00:00:00-05:00    30606.480469\n",
      "2021-12-31 00:00:00-05:00    36338.300781\n",
      "2022-12-31 00:00:00-05:00    33147.250000\n",
      "2023-12-31 00:00:00-05:00    37689.539062\n",
      "2024-12-31 00:00:00-05:00    42536.480469\n",
      "Freq: YE-DEC, Name: Close, dtype: float64\n"
     ]
    },
    {
     "name": "stderr",
     "output_type": "stream",
     "text": [
      "C:\\Users\\i7714\\AppData\\Local\\Temp\\ipykernel_7820\\1417124623.py:10: FutureWarning: 'Y' is deprecated and will be removed in a future version, please use 'YE' instead.\n",
      "  yearly_data = historical_data['Close'].resample('Y').last()\n"
     ]
    }
   ],
   "source": [
    "import yfinance as yf\n",
    "\n",
    "# Fetch DJIA data\n",
    "dow = yf.Ticker(\"^DJI\")\n",
    "\n",
    "# Get historical market data\n",
    "historical_data = dow.history(period=\"max\")\n",
    "\n",
    "# Resample to get yearly data\n",
    "yearly_data = historical_data['Close'].resample('Y').last()\n",
    "\n",
    "# Print yearly closing prices\n",
    "print(yearly_data)"
   ]
  },
  {
   "cell_type": "code",
   "execution_count": null,
   "id": "0770acc2-1309-4991-b450-18ff33eb3e2a",
   "metadata": {},
   "outputs": [],
   "source": []
  }
 ],
 "metadata": {
  "kernelspec": {
   "display_name": "Python 3 (ipykernel)",
   "language": "python",
   "name": "python3"
  },
  "language_info": {
   "codemirror_mode": {
    "name": "ipython",
    "version": 3
   },
   "file_extension": ".py",
   "mimetype": "text/x-python",
   "name": "python",
   "nbconvert_exporter": "python",
   "pygments_lexer": "ipython3",
   "version": "3.12.7"
  }
 },
 "nbformat": 4,
 "nbformat_minor": 5
}
