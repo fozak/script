{
 "cells": [
  {
   "cell_type": "code",
   "execution_count": 20,
   "id": "52cf51ac-d4ae-45c9-b527-7c4efeb48b04",
   "metadata": {},
   "outputs": [
    {
     "data": {
      "application/javascript": [
       "\n",
       "    // Assuming you already have the Hacker News tab open, we can send a message to it\n",
       "    const otherTabWindow = window.open('https://news.ycombinator.com'); // This will not open a new tab but refer to the already open one\n",
       "    // Sending a message\n",
       "    otherTabWindow.postMessage('Hello from Jupyter Notebook!', 'https://news.ycombinator.com');\n"
      ],
      "text/plain": [
       "<IPython.core.display.Javascript object>"
      ]
     },
     "metadata": {},
     "output_type": "display_data"
    }
   ],
   "source": [
    "from IPython.display import display, Javascript\n",
    "\n",
    "# Open a reference to the Hacker News tab and send a message\n",
    "display(Javascript(\"\"\"\n",
    "    // Assuming you already have the Hacker News tab open, we can send a message to it\n",
    "    const otherTabWindow = window.open('https://news.ycombinator.com'); // This will not open a new tab but refer to the already open one\n",
    "    // Sending a message\n",
    "    otherTabWindow.postMessage('Hello from Jupyter Notebook!', 'https://news.ycombinator.com');\n",
    "\"\"\"))"
   ]
  },
  {
   "cell_type": "code",
   "execution_count": 15,
   "id": "5ab7cc31-bc0f-4640-88af-db28425c4d32",
   "metadata": {},
   "outputs": [
    {
     "name": "stdout",
     "output_type": "stream",
     "text": [
      "Failed to retrieve kernel status: 403 {\"message\": \"Forbidden\", \"reason\": null}\n"
     ]
    }
   ],
   "source": [
    "import requests\n",
    "\n",
    "# Define the URL of the Jupyter server and the kernel ID\n",
    "base_url = 'http://localhost:8888'  # Change this if your server is running elsewhere\n",
    "kernel_id = '175c1722-cb02-41f2-a49d-6e396211b649'  # Your kernel ID\n",
    "api_path = f'/api/kernels/{kernel_id}'\n",
    "\n",
    "# Fetch the kernel status\n",
    "response = requests.get(f'{base_url}{api_path}', cookies={'Jupyter-Token': '<your_token>'})  # Include token if needed\n",
    "\n",
    "# Check if the request was successful\n",
    "if response.status_code == 200:\n",
    "    kernel_info = response.json()\n",
    "    print(\"Kernel ID:\", kernel_info['id'])\n",
    "    print(\"Kernel Name:\", kernel_info['name'])\n",
    "    print(\"Kernel Status:\", kernel_info['execution_state'])  # Should be 'busy', 'idle', or 'dead'\n",
    "else:\n",
    "    print(\"Failed to retrieve kernel status:\", response.status_code, response.text)"
   ]
  },
  {
   "cell_type": "code",
   "execution_count": null,
   "id": "1af11616-8879-4c1c-a4cd-3406c48aa49a",
   "metadata": {},
   "outputs": [],
   "source": []
  }
 ],
 "metadata": {
  "kernelspec": {
   "display_name": "Python 3 (ipykernel)",
   "language": "python",
   "name": "python3"
  },
  "language_info": {
   "codemirror_mode": {
    "name": "ipython",
    "version": 3
   },
   "file_extension": ".py",
   "mimetype": "text/x-python",
   "name": "python",
   "nbconvert_exporter": "python",
   "pygments_lexer": "ipython3",
   "version": "3.12.7"
  }
 },
 "nbformat": 4,
 "nbformat_minor": 5
}
