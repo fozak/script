{
 "cells": [
  {
   "cell_type": "code",
   "execution_count": null,
   "id": "3000d90f-aef6-4a3f-8abe-7103b023fde3",
   "metadata": {},
   "outputs": [],
   "source": [
    "#!pip install -U python-jobspy\n",
    "\n",
    "# "
   ]
  },
  {
   "cell_type": "code",
   "execution_count": 3,
   "id": "250ba027-0656-450e-82e6-eb7205e42cea",
   "metadata": {},
   "outputs": [
    {
     "name": "stderr",
     "output_type": "stream",
     "text": [
      "2024-11-20 13:22:15,807 - INFO - JobSpy:Indeed - search page: 1 / 1\n",
      "2024-11-20 13:22:16,004 - INFO - JobSpy:ZipRecruiter - search page: 1 / 1\n",
      "2024-11-20 13:22:16,271 - INFO - JobSpy:Indeed - finished scraping\n",
      "2024-11-20 13:22:16,765 - INFO - JobSpy:Google - search page: 1 / 2\n",
      "2024-11-20 13:22:17,090 - INFO - JobSpy:Glassdoor - search page: 1 / 1\n",
      "2024-11-20 13:22:17,120 - INFO - JobSpy:ZipRecruiter - finished scraping\n",
      "2024-11-20 13:22:17,157 - INFO - JobSpy:Google - search page: 2 / 2\n",
      "2024-11-20 13:22:17,523 - INFO - JobSpy:Google - finished scraping\n",
      "2024-11-20 13:22:18,047 - INFO - JobSpy:Glassdoor - finished scraping\n"
     ]
    },
    {
     "name": "stdout",
     "output_type": "stream",
     "text": [
      "Found 70 jobs\n",
      "                 id       site  \\\n",
      "0  gd-1009534978505  glassdoor   \n",
      "1  gd-1009533632152  glassdoor   \n",
      "2  gd-1009534537430  glassdoor   \n",
      "3  gd-1009534015986  glassdoor   \n",
      "4  gd-1009534037750  glassdoor   \n",
      "\n",
      "                                             job_url job_url_direct  \\\n",
      "0  https://www.glassdoor.com/job-listing/j?jl=100...            NaN   \n",
      "1  https://www.glassdoor.com/job-listing/j?jl=100...            NaN   \n",
      "2  https://www.glassdoor.com/job-listing/j?jl=100...            NaN   \n",
      "3  https://www.glassdoor.com/job-listing/j?jl=100...            NaN   \n",
      "4  https://www.glassdoor.com/job-listing/j?jl=100...            NaN   \n",
      "\n",
      "                                               title            company  \\\n",
      "0                             Data Solutions Analyst     Liberty Mutual   \n",
      "1           Business Analyst, Software Services Team               Axon   \n",
      "2  DATA ANALYST II, Information Services & Techno...  Boston University   \n",
      "3                                   Business Analyst            Infosys   \n",
      "4                                   Business Analyst       Bain Capital   \n",
      "\n",
      "     location date_posted job_type salary_source  ...                  emails  \\\n",
      "0  Boston, MA  2024-11-20      NaN   direct_data  ...                     NaN   \n",
      "1  Boston, MA  2024-11-20      NaN   direct_data  ...  recruitingops@axon.com   \n",
      "2  Boston, MA  2024-11-20      NaN   direct_data  ...                     NaN   \n",
      "3  Boston, MA  2024-11-20      NaN   direct_data  ...                     NaN   \n",
      "4  Boston, MA  2024-11-20      NaN   direct_data  ...                     NaN   \n",
      "\n",
      "                                         description  company_industry  \\\n",
      "0  **Pay Philosophy**\\nThe typical starting salar...               NaN   \n",
      "1  #### **Join Axon and be a Force for Good.**\\n\\...               NaN   \n",
      "2  Boston University Information Services \\& Tech...               NaN   \n",
      "3  Infosys is seeking a Business Analyst  \\n\\nThi...               NaN   \n",
      "4  Bain Capital Overview:\\nWith approximately $18...               NaN   \n",
      "\n",
      "                                         company_url  \\\n",
      "0  https://www.glassdoor.com/Overview/W-EI_IE2874...   \n",
      "1  https://www.glassdoor.com/Overview/W-EI_IE1597...   \n",
      "2  https://www.glassdoor.com/Overview/W-EI_IE3734...   \n",
      "3  https://www.glassdoor.com/Overview/W-EI_IE7927...   \n",
      "4  https://www.glassdoor.com/Overview/W-EI_IE3930...   \n",
      "\n",
      "                                        company_logo company_url_direct  \\\n",
      "0  https://media.glassdoor.com/sql/2874/liberty-m...                NaN   \n",
      "1  https://media.glassdoor.com/sql/1597674/axon-s...                NaN   \n",
      "2  https://media.glassdoor.com/sql/3734/boston-un...                NaN   \n",
      "3  https://media.glassdoor.com/sql/7927/infosys-s...                NaN   \n",
      "4                                                NaN                NaN   \n",
      "\n",
      "  company_addresses company_num_employees company_revenue company_description  \n",
      "0               NaN                   NaN             NaN                 NaN  \n",
      "1               NaN                   NaN             NaN                 NaN  \n",
      "2               NaN                   NaN             NaN                 NaN  \n",
      "3               NaN                   NaN             NaN                 NaN  \n",
      "4               NaN                   NaN             NaN                 NaN  \n",
      "\n",
      "[5 rows x 28 columns]\n"
     ]
    }
   ],
   "source": [
    "#documentation \n",
    "\n",
    "import csv\n",
    "from jobspy import scrape_jobs\n",
    "\n",
    "jobs = scrape_jobs(\n",
    "    site_name=[\"indeed\", \"zip_recruiter\", \"glassdoor\", \"google\"],\n",
    "    search_term=\"data analyst\",\n",
    "    google_search_term=\"data analyst jobs in Massachusetts since last week\",\n",
    "    location=\"Boston, MA\",\n",
    "    results_wanted=20,\n",
    "    hours_old=72,\n",
    "    country_indeed='USA',\n",
    "    \n",
    "    # linkedin_fetch_description=True # gets more info such as description, direct job url (slower)\n",
    "    # proxies=[\"208.195.175.46:65095\", \"208.195.175.45:65095\", \"localhost\"],\n",
    ")\n",
    "print(f\"Found {len(jobs)} jobs\")\n",
    "print(jobs.head())\n",
    "jobs.to_csv(\"jobs2.csv\", quoting=csv.QUOTE_NONNUMERIC, escapechar=\"\\\\\", index=False) # to_excel"
   ]
  },
  {
   "cell_type": "code",
   "execution_count": null,
   "id": "e7852ba9-5901-4710-b4c0-f00d02c952c1",
   "metadata": {},
   "outputs": [],
   "source": []
  }
 ],
 "metadata": {
  "kernelspec": {
   "display_name": "Python 3 (ipykernel)",
   "language": "python",
   "name": "python3"
  },
  "language_info": {
   "codemirror_mode": {
    "name": "ipython",
    "version": 3
   },
   "file_extension": ".py",
   "mimetype": "text/x-python",
   "name": "python",
   "nbconvert_exporter": "python",
   "pygments_lexer": "ipython3",
   "version": "3.12.0"
  }
 },
 "nbformat": 4,
 "nbformat_minor": 5
}
