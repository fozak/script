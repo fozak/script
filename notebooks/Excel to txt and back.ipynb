{
 "cells": [
  {
   "cell_type": "code",
   "execution_count": 3,
   "id": "91329550-f852-4c30-9c42-64dcd31a6ebc",
   "metadata": {},
   "outputs": [
    {
     "name": "stdout",
     "output_type": "stream",
     "text": [
      "Conversion complete. Data saved to output.txt\n"
     ]
    }
   ],
   "source": [
    "import os\n",
    "import zipfile\n",
    "\n",
    "def convert_xlsx_to_txt(xlsx_path, output_txt_path):\n",
    "    \"\"\"\n",
    "    Convert an XLSX file to a single text file with XML data using <file> tags.\n",
    "\n",
    "    :param xlsx_path: Path to the input XLSX file\n",
    "    :param output_txt_path: Path to save the resulting text file\n",
    "    \"\"\"\n",
    "    with zipfile.ZipFile(xlsx_path, 'r') as zipf, open(output_txt_path, 'w', encoding='utf-8') as txt_file:\n",
    "        for file_name in zipf.namelist():\n",
    "            with zipf.open(file_name) as f:\n",
    "                content = f.read().decode('utf-8', errors='ignore')\n",
    "                txt_file.write(f'<file name=\"{file_name}\">\\n{content}\\n</file>\\n')\n",
    "\n",
    "    print(f\"Conversion complete. Data saved to {output_txt_path}\")\n",
    "\n",
    "# Example usage\n",
    "convert_xlsx_to_txt('test.xlsx', 'output.txt')\n"
   ]
  },
  {
   "cell_type": "code",
   "execution_count": 6,
   "id": "a963ca49-02a7-498d-951a-b5d14969b6ed",
   "metadata": {},
   "outputs": [
    {
     "name": "stdout",
     "output_type": "stream",
     "text": [
      "Conversion complete. XLSX file saved to reconstructed.xlsx\n"
     ]
    }
   ],
   "source": [
    "import os\n",
    "import re\n",
    "import zipfile\n",
    "import tempfile\n",
    "import shutil\n",
    "\n",
    "def convert_txt_to_xlsx(input_txt_path, output_xlsx_path):\n",
    "    \"\"\"\n",
    "    Convert a text file with XML-tagged file contents back to an XLSX file.\n",
    "    \n",
    "    :param input_txt_path: Path to the input text file with XML tags\n",
    "    :param output_xlsx_path: Path to save the resulting XLSX file\n",
    "    \"\"\"\n",
    "    # Read the text file\n",
    "    with open(input_txt_path, 'r', encoding='utf-8') as txt_file:\n",
    "        txt_content = txt_file.read()\n",
    "    \n",
    "    # Create a temporary directory to store extracted files\n",
    "    temp_dir = tempfile.mkdtemp()\n",
    "    \n",
    "    try:\n",
    "        # Create a new zip file (XLSX is essentially a zip archive)\n",
    "        with zipfile.ZipFile(output_xlsx_path, 'w', zipfile.ZIP_DEFLATED) as xlsx_file:\n",
    "            # Find all file entries using regex\n",
    "            file_pattern = re.compile(r'<file name=\"(.*?)\">(.*?)</file>', re.DOTALL)\n",
    "            file_matches = file_pattern.findall(txt_content)\n",
    "            \n",
    "            for file_name, content in file_matches:\n",
    "                # Create the full file path in the temporary directory\n",
    "                full_path = os.path.join(temp_dir, file_name)\n",
    "                \n",
    "                # Ensure directory exists\n",
    "                os.makedirs(os.path.dirname(full_path), exist_ok=True)\n",
    "                \n",
    "                # Write the content to the file\n",
    "                with open(full_path, 'wb') as f:\n",
    "                    # Use encode to ensure proper byte writing\n",
    "                    f.write(content.strip().encode('utf-8'))\n",
    "                \n",
    "                # Add the file to the zip archive\n",
    "                xlsx_file.write(full_path, arcname=file_name)\n",
    "        \n",
    "        print(f\"Conversion complete. XLSX file saved to {output_xlsx_path}\")\n",
    "    \n",
    "    finally:\n",
    "        # Clean up temporary directory\n",
    "        shutil.rmtree(temp_dir, ignore_errors=True)\n",
    "\n",
    "# Example usage\n",
    "convert_txt_to_xlsx('output.txt', 'reconstructed.xlsx')"
   ]
  },
  {
   "cell_type": "code",
   "execution_count": null,
   "id": "0e742835-b1f4-48b0-9d12-1fcc364a7355",
   "metadata": {},
   "outputs": [],
   "source": []
  }
 ],
 "metadata": {
  "kernelspec": {
   "display_name": "Python 3 (ipykernel)",
   "language": "python",
   "name": "python3"
  },
  "language_info": {
   "codemirror_mode": {
    "name": "ipython",
    "version": 3
   },
   "file_extension": ".py",
   "mimetype": "text/x-python",
   "name": "python",
   "nbconvert_exporter": "python",
   "pygments_lexer": "ipython3",
   "version": "3.12.7"
  }
 },
 "nbformat": 4,
 "nbformat_minor": 5
}
