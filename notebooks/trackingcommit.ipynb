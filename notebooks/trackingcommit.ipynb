{
 "cells": [
  {
   "cell_type": "code",
   "execution_count": 6,
   "id": "92e3d99d-6f61-405e-b8ee-00e226b1c3ea",
   "metadata": {},
   "outputs": [
    {
     "name": "stdout",
     "output_type": "stream",
     "text": [
      "Committed example.txt with commit ID: 8ae2a64]\n",
      "Created example.txt and logged to tasks.md\n"
     ]
    }
   ],
   "source": [
    "import os\n",
    "import subprocess\n",
    "\n",
    "def create_txt_file_and_log(file_name, content, log_file='tasks.md', commit_message='Add new .txt file'):\n",
    "    # Create the .txt file with the specified content\n",
    "    with open(file_name, 'w') as f:\n",
    "        f.write(content)\n",
    "    \n",
    "    # Get the full path of the new .txt file\n",
    "    full_path = os.path.abspath(file_name)\n",
    "    \n",
    "    # Stage the file for committing\n",
    "    subprocess.run(['git', 'add', file_name], check=True)\n",
    "    \n",
    "    # Commit the file\n",
    "    commit_output = subprocess.run(['git', 'commit', '-m', commit_message], capture_output=True, text=True)\n",
    "    \n",
    "    if commit_output.returncode == 0:\n",
    "        # Extract the commit ID from the output\n",
    "        # The commit ID is usually the first line of the output after \"Created commit ...\", \n",
    "        # so we can split the output and get the relevant part\n",
    "        commit_id_line = commit_output.stdout.splitlines()[0]\n",
    "        commit_id = commit_id_line.split()[1]  # This assumes the commit ID is the second word\n",
    "        print(f\"Committed {file_name} with commit ID: {commit_id}\")\n",
    "    else:\n",
    "        print(\"Commit failed:\", commit_output.stderr)\n",
    "        return\n",
    "    \n",
    "    # Log the action in tasks.md\n",
    "    with open(log_file, 'a') as log:\n",
    "        log.write(f\"- {full_path}\\n\")\n",
    "        log.write(f\"Commit message: {commit_message}\\n\")\n",
    "        log.write(f\"Commit ID: {commit_id}\\n\\n\")\n",
    "\n",
    "    print(f\"Created {file_name} and logged to {log_file}\")\n",
    "\n",
    "# Example usage\n",
    "create_txt_file_and_log('example.txt', 'This is an example text file.')"
   ]
  },
  {
   "cell_type": "code",
   "execution_count": null,
   "id": "fcd0c027-881a-42e2-a449-fb4f03586d91",
   "metadata": {},
   "outputs": [],
   "source": []
  }
 ],
 "metadata": {
  "kernelspec": {
   "display_name": "Python 3 (ipykernel)",
   "language": "python",
   "name": "python3"
  },
  "language_info": {
   "codemirror_mode": {
    "name": "ipython",
    "version": 3
   },
   "file_extension": ".py",
   "mimetype": "text/x-python",
   "name": "python",
   "nbconvert_exporter": "python",
   "pygments_lexer": "ipython3",
   "version": "3.12.7"
  }
 },
 "nbformat": 4,
 "nbformat_minor": 5
}
