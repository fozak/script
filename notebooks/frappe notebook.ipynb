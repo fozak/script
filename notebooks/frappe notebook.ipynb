{
 "cells": [
  {
   "cell_type": "code",
   "execution_count": 52,
   "id": "3e6bf255-4412-4b30-84cd-90b2c1d825e1",
   "metadata": {},
   "outputs": [
    {
     "name": "stdout",
     "output_type": "stream",
     "text": [
      "['C:\\\\python\\\\frappe-client', 'C:\\\\python\\\\python312.zip', 'C:\\\\python\\\\DLLs', 'C:\\\\python\\\\Lib', 'C:\\\\python', '', 'C:\\\\python\\\\Lib\\\\site-packages', 'C:\\\\python\\\\Lib\\\\site-packages\\\\win32', 'C:\\\\python\\\\Lib\\\\site-packages\\\\win32\\\\lib', 'C:\\\\python\\\\Lib\\\\site-packages\\\\Pythonwin']\n"
     ]
    }
   ],
   "source": [
    "import sys\n",
    "import os\n",
    "\n",
    "# Replace with the actual path to your frappe-client directory\n",
    "frappe_client_dir = os.path.abspath(\"C:/python/frappe-client\")\n",
    "if frappe_client_dir not in sys.path:\n",
    "    sys.path.insert(0, frappe_client_dir) # Add the path\n",
    "print(sys.path)"
   ]
  },
  {
   "cell_type": "code",
   "execution_count": 53,
   "id": "43eec53c-8714-4038-bfcd-ebad1f51ab76",
   "metadata": {},
   "outputs": [
    {
     "data": {
      "text/plain": [
       "{'message': 'Logged In', 'home_page': '/app', 'full_name': 'Administrator'}"
      ]
     },
     "execution_count": 53,
     "metadata": {},
     "output_type": "execute_result"
    }
   ],
   "source": [
    "from frappeclient import FrappeClient\n",
    "\n",
    "conn = FrappeClient(\"http://137.184.20.87:8000\")\n",
    "conn.login(\"Administrator\", \"*****\")"
   ]
  },
  {
   "cell_type": "code",
   "execution_count": 69,
   "id": "c3735991-4582-4c0f-b323-35d74123a95e",
   "metadata": {},
   "outputs": [],
   "source": [
    "users = conn.get_list('Customer')"
   ]
  },
  {
   "cell_type": "code",
   "execution_count": 44,
   "id": "060d1a49-8687-42a8-9690-df8dac336d81",
   "metadata": {},
   "outputs": [],
   "source": [
    "doc = conn.update({\n",
    "    \"doctype\": \"Employee\",\n",
    "    \"name\": 'HR-EMP-00002',\n",
    "    \"first_name\": \"Michael\",\n",
    "    \"gender\": \"Male\",\n",
    "    \"date_of_birth\": \"1990-01-01\",\n",
    "    \"date_of_joining\": \"2023-10-27\",\n",
    "    \"import\": \"quickbooks\"\n",
    "})"
   ]
  },
  {
   "cell_type": "code",
   "execution_count": 70,
   "id": "db24dba5-71ad-4e30-9c76-b5487e3dcd60",
   "metadata": {},
   "outputs": [
    {
     "name": "stdout",
     "output_type": "stream",
     "text": [
      "[{'name': 'AKL Air', 'owner': 'Administrator', 'creation': '2025-03-05 19:03:18.245725', 'modified': '2025-03-05 19:03:18.245725', 'modified_by': 'Administrator', 'docstatus': 0, 'idx': 0, 'naming_series': 'CUST-.YYYY.-', 'salutation': None, 'customer_name': 'AKL Air', 'customer_type': 'Company', 'customer_group': None, 'territory': None, 'gender': None, 'lead_name': None, 'opportunity_name': 'CRM-OPP-2025-00002', 'prospect_name': None, 'account_manager': None, 'image': None, 'default_currency': 'USD', 'default_bank_account': None, 'default_price_list': None, 'is_internal_customer': 0, 'represents_company': None, 'market_segment': None, 'industry': 'Airline', 'customer_pos_id': None, 'website': None, 'language': 'en', 'customer_details': None, 'customer_primary_address': None, 'primary_address': None, 'customer_primary_contact': None, 'mobile_no': None, 'email_id': None, 'tax_id': None, 'tax_category': None, 'tax_withholding_category': None, 'payment_terms': None, 'loyalty_program': None, 'loyalty_program_tier': None, 'default_sales_partner': None, 'default_commission_rate': 0.0, 'so_required': 0, 'dn_required': 0, 'exempt_from_sales_tax': 0, 'is_frozen': 0, 'disabled': 0}, {'name': \"Bill's Windsurf Shop\", 'owner': 'Administrator', 'creation': '2025-03-06 11:44:23.846850', 'modified': '2025-03-06 12:02:20.047067', 'modified_by': 'Administrator', 'docstatus': 0, 'idx': 1, 'naming_series': 'CUST-.YYYY.-', 'salutation': None, 'customer_name': \"Bill's Windsurf Shop\", 'customer_type': 'Company', 'customer_group': None, 'territory': None, 'gender': None, 'lead_name': None, 'opportunity_name': None, 'prospect_name': None, 'account_manager': None, 'image': None, 'default_currency': None, 'default_bank_account': None, 'default_price_list': None, 'is_internal_customer': 0, 'represents_company': None, 'market_segment': None, 'industry': None, 'customer_pos_id': None, 'website': None, 'language': 'en', 'customer_details': None, 'customer_primary_address': None, 'primary_address': None, 'customer_primary_contact': \"Bill's Windsurf Shop-Bill's Windsurf Shop\", 'mobile_no': '(415) 444-6538', 'email_id': 'Surf@Intuit.com', 'tax_id': None, 'tax_category': None, 'tax_withholding_category': None, 'payment_terms': None, 'loyalty_program': None, 'loyalty_program_tier': None, 'default_sales_partner': None, 'default_commission_rate': 0.0, 'so_required': 0, 'dn_required': 0, 'exempt_from_sales_tax': 0, 'is_frozen': 0, 'disabled': 0}, {'name': 'CUST-2025-00001', 'owner': 'Administrator', 'creation': '2025-03-10 07:35:46.692203', 'modified': '2025-03-10 07:35:46.692203', 'modified_by': 'Administrator', 'docstatus': 0, 'idx': 0, 'naming_series': 'CUST-.YYYY.-', 'salutation': None, 'customer_name': 'New Naming series customer', 'customer_type': 'Company', 'customer_group': None, 'territory': None, 'gender': None, 'lead_name': None, 'opportunity_name': None, 'prospect_name': None, 'account_manager': None, 'image': None, 'default_currency': None, 'default_bank_account': None, 'default_price_list': None, 'is_internal_customer': 0, 'represents_company': None, 'market_segment': None, 'industry': None, 'customer_pos_id': None, 'website': None, 'language': 'en', 'customer_details': None, 'customer_primary_address': None, 'primary_address': None, 'customer_primary_contact': None, 'mobile_no': None, 'email_id': None, 'tax_id': None, 'tax_category': None, 'tax_withholding_category': None, 'payment_terms': None, 'loyalty_program': None, 'loyalty_program_tier': None, 'default_sales_partner': None, 'default_commission_rate': 0.0, 'so_required': 0, 'dn_required': 0, 'exempt_from_sales_tax': 0, 'is_frozen': 0, 'disabled': 0}, {'name': 'Example Co', 'owner': 'Administrator', 'creation': '2025-03-06 07:12:19.380510', 'modified': '2025-03-06 07:26:10.492378', 'modified_by': 'Administrator', 'docstatus': 0, 'idx': 0, 'naming_series': 'CUST-.YYYY.-', 'salutation': None, 'customer_name': 'Example Co and Sons', 'customer_type': 'Company', 'customer_group': None, 'territory': None, 'gender': None, 'lead_name': None, 'opportunity_name': None, 'prospect_name': None, 'account_manager': None, 'image': None, 'default_currency': None, 'default_bank_account': None, 'default_price_list': None, 'is_internal_customer': 0, 'represents_company': None, 'market_segment': None, 'industry': None, 'customer_pos_id': None, 'website': 'example.net', 'language': 'en', 'customer_details': None, 'customer_primary_address': None, 'primary_address': None, 'customer_primary_contact': None, 'mobile_no': None, 'email_id': None, 'tax_id': None, 'tax_category': None, 'tax_withholding_category': None, 'payment_terms': None, 'loyalty_program': None, 'loyalty_program_tier': None, 'default_sales_partner': None, 'default_commission_rate': 0.0, 'so_required': 0, 'dn_required': 0, 'exempt_from_sales_tax': 0, 'is_frozen': 0, 'disabled': 0}, {'name': 'Fast airlines', 'owner': 'Administrator', 'creation': '2025-03-05 13:46:40.196737', 'modified': '2025-03-05 13:47:45.752290', 'modified_by': 'Administrator', 'docstatus': 0, 'idx': 2, 'naming_series': 'CUST-.YYYY.-', 'salutation': None, 'customer_name': 'Fast airlines', 'customer_type': 'Company', 'customer_group': 'Demo Customer Group', 'territory': None, 'gender': None, 'lead_name': 'CRM-LEAD-2025-00001', 'opportunity_name': 'CRM-OPP-2025-00001', 'prospect_name': None, 'account_manager': None, 'image': None, 'default_currency': 'USD', 'default_bank_account': None, 'default_price_list': None, 'is_internal_customer': 0, 'represents_company': None, 'market_segment': None, 'industry': 'Airline', 'customer_pos_id': None, 'website': None, 'language': 'en', 'customer_details': None, 'customer_primary_address': None, 'primary_address': None, 'customer_primary_contact': None, 'mobile_no': None, 'email_id': None, 'tax_id': None, 'tax_category': None, 'tax_withholding_category': None, 'payment_terms': None, 'loyalty_program': None, 'loyalty_program_tier': None, 'default_sales_partner': None, 'default_commission_rate': 0.0, 'so_required': 0, 'dn_required': 0, 'exempt_from_sales_tax': 0, 'is_frozen': 0, 'disabled': 0}, {'name': 'Grant Plastics Ltd.', 'owner': 'Administrator', 'creation': '2025-03-05 11:44:16.988576', 'modified': '2025-03-05 11:44:16.988576', 'modified_by': 'Administrator', 'docstatus': 0, 'idx': 0, 'naming_series': 'CUST-.YYYY.-', 'salutation': None, 'customer_name': 'Grant Plastics Ltd.', 'customer_type': 'Company', 'customer_group': 'Demo Customer Group', 'territory': None, 'gender': None, 'lead_name': None, 'opportunity_name': None, 'prospect_name': None, 'account_manager': None, 'image': None, 'default_currency': None, 'default_bank_account': None, 'default_price_list': None, 'is_internal_customer': 0, 'represents_company': None, 'market_segment': None, 'industry': None, 'customer_pos_id': None, 'website': None, 'language': 'en', 'customer_details': None, 'customer_primary_address': None, 'primary_address': None, 'customer_primary_contact': None, 'mobile_no': None, 'email_id': None, 'tax_id': None, 'tax_category': None, 'tax_withholding_category': None, 'payment_terms': None, 'loyalty_program': None, 'loyalty_program_tier': None, 'default_sales_partner': None, 'default_commission_rate': 0.0, 'so_required': 0, 'dn_required': 0, 'exempt_from_sales_tax': 0, 'is_frozen': 0, 'disabled': 0}, {'name': 'New customer', 'owner': 'Administrator', 'creation': '2025-03-05 19:05:14.909756', 'modified': '2025-03-05 19:05:14.909756', 'modified_by': 'Administrator', 'docstatus': 0, 'idx': 1, 'naming_series': 'CUST-.YYYY.-', 'salutation': None, 'customer_name': 'New customer', 'customer_type': 'Company', 'customer_group': None, 'territory': None, 'gender': None, 'lead_name': None, 'opportunity_name': None, 'prospect_name': None, 'account_manager': None, 'image': None, 'default_currency': None, 'default_bank_account': None, 'default_price_list': None, 'is_internal_customer': 0, 'represents_company': None, 'market_segment': None, 'industry': None, 'customer_pos_id': None, 'website': None, 'language': 'en', 'customer_details': None, 'customer_primary_address': None, 'primary_address': None, 'customer_primary_contact': None, 'mobile_no': None, 'email_id': None, 'tax_id': None, 'tax_category': None, 'tax_withholding_category': None, 'payment_terms': None, 'loyalty_program': None, 'loyalty_program_tier': None, 'default_sales_partner': None, 'default_commission_rate': 0.0, 'so_required': 0, 'dn_required': 0, 'exempt_from_sales_tax': 0, 'is_frozen': 0, 'disabled': 0}, {'name': 'Palmer Productions Ltd.', 'owner': 'Administrator', 'creation': '2025-03-05 11:44:17.127480', 'modified': '2025-03-05 11:44:17.127480', 'modified_by': 'Administrator', 'docstatus': 0, 'idx': 0, 'naming_series': 'CUST-.YYYY.-', 'salutation': None, 'customer_name': 'Palmer Productions Ltd.', 'customer_type': 'Company', 'customer_group': 'Demo Customer Group', 'territory': None, 'gender': None, 'lead_name': None, 'opportunity_name': None, 'prospect_name': None, 'account_manager': None, 'image': None, 'default_currency': None, 'default_bank_account': None, 'default_price_list': None, 'is_internal_customer': 0, 'represents_company': None, 'market_segment': None, 'industry': None, 'customer_pos_id': None, 'website': None, 'language': 'en', 'customer_details': None, 'customer_primary_address': None, 'primary_address': None, 'customer_primary_contact': None, 'mobile_no': None, 'email_id': None, 'tax_id': None, 'tax_category': None, 'tax_withholding_category': None, 'payment_terms': None, 'loyalty_program': None, 'loyalty_program_tier': None, 'default_sales_partner': None, 'default_commission_rate': 0.0, 'so_required': 0, 'dn_required': 0, 'exempt_from_sales_tax': 0, 'is_frozen': 0, 'disabled': 0}, {'name': 'West View Software Ltd.', 'owner': 'Administrator', 'creation': '2025-03-05 11:44:17.109827', 'modified': '2025-03-05 11:44:17.109827', 'modified_by': 'Administrator', 'docstatus': 0, 'idx': 0, 'naming_series': 'CUST-.YYYY.-', 'salutation': None, 'customer_name': 'West View Software Ltd.', 'customer_type': 'Company', 'customer_group': 'Demo Customer Group', 'territory': None, 'gender': None, 'lead_name': None, 'opportunity_name': None, 'prospect_name': None, 'account_manager': None, 'image': None, 'default_currency': None, 'default_bank_account': None, 'default_price_list': None, 'is_internal_customer': 0, 'represents_company': None, 'market_segment': None, 'industry': None, 'customer_pos_id': None, 'website': None, 'language': 'en', 'customer_details': None, 'customer_primary_address': None, 'primary_address': None, 'customer_primary_contact': None, 'mobile_no': None, 'email_id': None, 'tax_id': None, 'tax_category': None, 'tax_withholding_category': None, 'payment_terms': None, 'loyalty_program': None, 'loyalty_program_tier': None, 'default_sales_partner': None, 'default_commission_rate': 0.0, 'so_required': 0, 'dn_required': 0, 'exempt_from_sales_tax': 0, 'is_frozen': 0, 'disabled': 0}]\n"
     ]
    }
   ],
   "source": [
    "print(users)"
   ]
  },
  {
   "cell_type": "code",
   "execution_count": null,
   "id": "38bf9820-e4c4-4a27-bf32-18f44154df79",
   "metadata": {},
   "outputs": [],
   "source": [
    "customers = conn.get_list('Customer')\n",
    "print(customers)"
   ]
  },
  {
   "cell_type": "code",
   "execution_count": 36,
   "id": "b39386d7-d660-434f-ab25-9c96ec33360e",
   "metadata": {},
   "outputs": [],
   "source": [
    "doc = conn.update({\n",
    "    \"doctype\": \"Customer\",\n",
    "    \"name\": \"Bill's Windsurf Shop\",\n",
    "    \"docstatus\": 0,\n",
    "    \"idx\": 0,\n",
    "    \"naming_series\": \"CUST-.YYYY.-\",\n",
    "    \"customer_name\": \"Bill's Windsurf Shop\",\n",
    "    \"customer_type\": \"Company\",\n",
    "    \"mobile_no\": \"(415) 444-6538\",\n",
    "    \"email_id\": \"Surf23@Intuit.com\",\n",
    "    \"default_commission_rate\": 0.0,\n",
    "    \"so_required\": 0,\n",
    "    \"dn_required\": 0,\n",
    "    \"exempt_from_sales_tax\": 0,\n",
    "    \"is_frozen\": 0,\n",
    "    \"disabled\": 0\n",
    "})"
   ]
  },
  {
   "cell_type": "code",
   "execution_count": null,
   "id": "fc1a5196-3e6a-4d17-b949-b33c887253ef",
   "metadata": {},
   "outputs": [],
   "source": [
    "opportunities = conn.get_list('Opportunity')\n",
    "print(opportunities)"
   ]
  },
  {
   "cell_type": "code",
   "execution_count": 47,
   "id": "eed91225-3b1e-4c45-8c83-bac4f43c8a8b",
   "metadata": {},
   "outputs": [],
   "source": [
    "conn.logout()"
   ]
  },
  {
   "cell_type": "code",
   "execution_count": 62,
   "id": "d03f9193-645c-479a-81aa-d9e3d0bb9f6f",
   "metadata": {},
   "outputs": [
    {
     "data": {
      "text/plain": [
       "'Adam'"
      ]
     },
     "execution_count": 62,
     "metadata": {},
     "output_type": "execute_result"
    }
   ],
   "source": [
    "doctype = 'Contact'\n",
    "docname = 'Adam Smith'\n",
    "#fieldname = 'name'  # The correct fieldname to change the document name\n",
    "#new_value = 'Adam Smith'  #\n",
    "fieldname = 'first_name'  # The correct fieldname to change the document name\n",
    "new_value = 'Adam'  #\n",
    "conn.rename_doc(doctype, docname, new_value)"
   ]
  },
  {
   "cell_type": "code",
   "execution_count": null,
   "id": "c308e29a-8419-4383-842e-c1696ced062b",
   "metadata": {},
   "outputs": [],
   "source": []
  }
 ],
 "metadata": {
  "kernelspec": {
   "display_name": "Python 3 (ipykernel)",
   "language": "python",
   "name": "python3"
  },
  "language_info": {
   "codemirror_mode": {
    "name": "ipython",
    "version": 3
   },
   "file_extension": ".py",
   "mimetype": "text/x-python",
   "name": "python",
   "nbconvert_exporter": "python",
   "pygments_lexer": "ipython3",
   "version": "3.12.7"
  }
 },
 "nbformat": 4,
 "nbformat_minor": 5
}
