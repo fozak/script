{
 "cells": [
  {
   "cell_type": "code",
   "execution_count": 3,
   "id": "fbcd2fd7-0b70-4545-b6ee-7f62d07483e6",
   "metadata": {},
   "outputs": [
    {
     "name": "stdout",
     "output_type": "stream",
     "text": [
      "Exit code: 1\n",
      "Output:\n",
      "\n"
     ]
    }
   ],
   "source": [
    "import subprocess\n",
    "\n",
    "# Test path and pattern\n",
    "path_to_search = r'C:\\python\\script\\notebooks'  # Replace with your path\n",
    "pattern = 'Chrome'\n",
    "\n",
    "try:\n",
    "    result = subprocess.run(\n",
    "        ['rg', pattern], \n",
    "        cwd=path_to_search,\n",
    "        capture_output=True,\n",
    "        text=True\n",
    "    )\n",
    "    print(f\"Exit code: {result.returncode}\")\n",
    "    print(f\"Output:\\n{result.stdout}\")\n",
    "    \n",
    "except FileNotFoundError:\n",
    "    print(\"Either the path doesn't exist or 'rg' is not installed\")\n",
    "except Exception as e:\n",
    "    print(f\"Error: {str(e)}\")"
   ]
  },
  {
   "cell_type": "code",
   "execution_count": null,
   "id": "a634c30e-28ae-48cb-a7c8-7021ef6e34a0",
   "metadata": {},
   "outputs": [],
   "source": []
  }
 ],
 "metadata": {
  "kernelspec": {
   "display_name": "Python 3 (ipykernel)",
   "language": "python",
   "name": "python3"
  },
  "language_info": {
   "codemirror_mode": {
    "name": "ipython",
    "version": 3
   },
   "file_extension": ".py",
   "mimetype": "text/x-python",
   "name": "python",
   "nbconvert_exporter": "python",
   "pygments_lexer": "ipython3",
   "version": "3.12.7"
  }
 },
 "nbformat": 4,
 "nbformat_minor": 5
}
