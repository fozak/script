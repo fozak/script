{
 "cells": [
  {
   "cell_type": "code",
   "execution_count": 4,
   "id": "ac4d0abf-e1f1-4df2-bde7-f55599d5dbb0",
   "metadata": {},
   "outputs": [
    {
     "name": "stdout",
     "output_type": "stream",
     "text": [
      "Output:\n",
      "c:\\python\\script\\temperedmonkey\\5.3.3_0\\vendor\\eslint\\eslint.js:\"file\":\"module\"}function h(m){const k={};m.forEach(p=>{p=a(p.init);k[p]=!0});return!(!k.require||!k.uninitialized&&!k.other)}function b(m){const k={};m.forEach(p=>{\"require\"===a(p.init)&&(k[c(p.init)]=!0)});return 1>=Object.keys(k).length}const e=d.options[0];let f=!1,g=!1;\"object\"===typeof e?(f=e.grouping,g=e.allowCall):f=!!e;const l=\"assert buffer child_process cluster crypto dgram dns domain events fs http https net os path punycode querystring readline repl smalloc stream string_decoder tls tty url util v8 vm zlib\".split(\" \");\n",
      "c:\\python\\script\\exponanta-scripts\\ripgrep-node.js:const { spawn } = require('child_process');\n",
      "c:\\python\\script\\exponanta-scripts\\node_modules\\vscode-ripgrep\\README.md:// child_process.spawn(rgPath, ...)\n",
      "c:\\python\\script\\exponanta-scripts\\node_modules\\vscode-ripgrep\\lib\\postinstall.js:const child_process = require('child_process');\n",
      "c:\\python\\script\\exponanta-scripts\\node_modules\\vscode-ripgrep\\lib\\postinstall.js:const exec = util.promisify(child_process.exec);\n",
      "c:\\python\\script\\exponanta-scripts\\node_modules\\vscode-ripgrep\\lib\\download.js:const child_process = require('child_process');\n",
      "c:\\python\\script\\exponanta-scripts\\node_modules\\vscode-ripgrep\\lib\\download.js:        child_process.exec(iwrCmd, err => {\n",
      "c:\\python\\script\\exponanta-scripts\\node_modules\\vscode-ripgrep\\lib\\download.js:        child_process.exec(expandCmd, (err, _stdout, stderr) => {\n",
      "c:\\python\\script\\exponanta-scripts\\node_modules\\vscode-ripgrep\\lib\\download.js:        const unzipProc = child_process.spawn('tar', ['xvf', zipPath, '-C', destinationDir], { stdio: 'inherit' });\n",
      "\n",
      "Execution Time: 0.1221 seconds\n"
     ]
    }
   ],
   "source": [
    "#this is with timer\n",
    "\n",
    "import subprocess\n",
    "import time\n",
    "\n",
    "def run_ripgrep(pattern, path='c:\\\\python\\\\script'):\n",
    "    start_time = time.time()  # Record the start time\n",
    "    try:\n",
    "        # Run ripgrep command\n",
    "        result = subprocess.run(['rg', pattern, path], \n",
    "                                capture_output=True, \n",
    "                                text=True, \n",
    "                                check=True)\n",
    "        end_time = time.time()  # Record the end time\n",
    "        execution_time = end_time - start_time  # Calculate execution time\n",
    "        return result.stdout, execution_time  # Return output and execution time\n",
    "    except subprocess.CalledProcessError as e:\n",
    "        return f\"Error occurred: {e.stderr}\", None\n",
    "\n",
    "# Example usage\n",
    "pattern = 'child_process'  # Replace with your actual search pattern\n",
    "output, execution_time = run_ripgrep(pattern)\n",
    "\n",
    "# Print the output and execution time\n",
    "if execution_time is not None:\n",
    "    print(f\"Output:\\n{output}\")\n",
    "    print(f\"Execution Time: {execution_time:.4f} seconds\")\n",
    "else:\n",
    "    print(\"An error occurred.\")"
   ]
  },
  {
   "cell_type": "code",
   "execution_count": null,
   "id": "a8400492-5015-4e38-bb7d-563ce414dd7a",
   "metadata": {},
   "outputs": [],
   "source": []
  }
 ],
 "metadata": {
  "kernelspec": {
   "display_name": "Python 3",
   "language": "python",
   "name": "python3"
  },
  "language_info": {
   "codemirror_mode": {
    "name": "ipython",
    "version": 3
   },
   "file_extension": ".py",
   "mimetype": "text/x-python",
   "name": "python",
   "nbconvert_exporter": "python",
   "pygments_lexer": "ipython3",
   "version": "3.12.7"
  }
 },
 "nbformat": 4,
 "nbformat_minor": 5
}
