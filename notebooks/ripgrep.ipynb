{
 "cells": [
  {
   "cell_type": "code",
   "execution_count": 5,
   "id": "ac4d0abf-e1f1-4df2-bde7-f55599d5dbb0",
   "metadata": {},
   "outputs": [
    {
     "name": "stdout",
     "output_type": "stream",
     "text": [
      "Output:\n",
      "c:\\python\\script\\temperedmonkey\\5.3.3_0\\vendor\\eslint\\eslint.js:\"file\":\"module\"}function h(m){const k={};m.forEach(p=>{p=a(p.init);k[p]=!0});return!(!k.require||!k.uninitialized&&!k.other)}function b(m){const k={};m.forEach(p=>{\"require\"===a(p.init)&&(k[c(p.init)]=!0)});return 1>=Object.keys(k).length}const e=d.options[0];let f=!1,g=!1;\"object\"===typeof e?(f=e.grouping,g=e.allowCall):f=!!e;const l=\"assert buffer child_process cluster crypto dgram dns domain events fs http https net os path punycode querystring readline repl smalloc stream string_decoder tls tty url util v8 vm zlib\".split(\" \");\n",
      "c:\\python\\script\\exponanta-scripts\\node_modules\\vscode-ripgrep\\README.md:// child_process.spawn(rgPath, ...)\n",
      "c:\\python\\script\\exponanta-scripts\\node_modules\\vscode-ripgrep\\lib\\postinstall.js:const child_process = require('child_process');\n",
      "c:\\python\\script\\exponanta-scripts\\node_modules\\vscode-ripgrep\\lib\\postinstall.js:const exec = util.promisify(child_process.exec);\n",
      "c:\\python\\script\\exponanta-scripts\\node_modules\\vscode-ripgrep\\lib\\download.js:const child_process = require('child_process');\n",
      "c:\\python\\script\\exponanta-scripts\\node_modules\\vscode-ripgrep\\lib\\download.js:        child_process.exec(iwrCmd, err => {\n",
      "c:\\python\\script\\exponanta-scripts\\node_modules\\vscode-ripgrep\\lib\\download.js:        child_process.exec(expandCmd, (err, _stdout, stderr) => {\n",
      "c:\\python\\script\\exponanta-scripts\\node_modules\\vscode-ripgrep\\lib\\download.js:        const unzipProc = child_process.spawn('tar', ['xvf', zipPath, '-C', destinationDir], { stdio: 'inherit' });\n",
      "c:\\python\\script\\exponanta-scripts\\ripgrep-node.js:const { spawn } = require('child_process');\n",
      "c:\\python\\script\\notebooks\\ripgrep.ipynb:      \"c:\\\\python\\\\script\\\\temperedmonkey\\\\5.3.3_0\\\\vendor\\\\eslint\\\\eslint.js:\\\"file\\\":\\\"module\\\"}function h(m){const k={};m.forEach(p=>{p=a(p.init);k[p]=!0});return!(!k.require||!k.uninitialized&&!k.other)}function b(m){const k={};m.forEach(p=>{\\\"require\\\"===a(p.init)&&(k[c(p.init)]=!0)});return 1>=Object.keys(k).length}const e=d.options[0];let f=!1,g=!1;\\\"object\\\"===typeof e?(f=e.grouping,g=e.allowCall):f=!!e;const l=\\\"assert buffer child_process cluster crypto dgram dns domain events fs http https net os path punycode querystring readline repl smalloc stream string_decoder tls tty url util v8 vm zlib\\\".split(\\\" \\\");\\n\",\n",
      "c:\\python\\script\\notebooks\\ripgrep.ipynb:      \"c:\\\\python\\\\script\\\\exponanta-scripts\\\\ripgrep-node.js:const { spawn } = require('child_process');\\n\",\n",
      "c:\\python\\script\\notebooks\\ripgrep.ipynb:      \"c:\\\\python\\\\script\\\\exponanta-scripts\\\\node_modules\\\\vscode-ripgrep\\\\README.md:// child_process.spawn(rgPath, ...)\\n\",\n",
      "c:\\python\\script\\notebooks\\ripgrep.ipynb:      \"c:\\\\python\\\\script\\\\exponanta-scripts\\\\node_modules\\\\vscode-ripgrep\\\\lib\\\\postinstall.js:const child_process = require('child_process');\\n\",\n",
      "c:\\python\\script\\notebooks\\ripgrep.ipynb:      \"c:\\\\python\\\\script\\\\exponanta-scripts\\\\node_modules\\\\vscode-ripgrep\\\\lib\\\\postinstall.js:const exec = util.promisify(child_process.exec);\\n\",\n",
      "c:\\python\\script\\notebooks\\ripgrep.ipynb:      \"c:\\\\python\\\\script\\\\exponanta-scripts\\\\node_modules\\\\vscode-ripgrep\\\\lib\\\\download.js:const child_process = require('child_process');\\n\",\n",
      "c:\\python\\script\\notebooks\\ripgrep.ipynb:      \"c:\\\\python\\\\script\\\\exponanta-scripts\\\\node_modules\\\\vscode-ripgrep\\\\lib\\\\download.js:        child_process.exec(iwrCmd, err => {\\n\",\n",
      "c:\\python\\script\\notebooks\\ripgrep.ipynb:      \"c:\\\\python\\\\script\\\\exponanta-scripts\\\\node_modules\\\\vscode-ripgrep\\\\lib\\\\download.js:        child_process.exec(expandCmd, (err, _stdout, stderr) => {\\n\",\n",
      "c:\\python\\script\\notebooks\\ripgrep.ipynb:      \"c:\\\\python\\\\script\\\\exponanta-scripts\\\\node_modules\\\\vscode-ripgrep\\\\lib\\\\download.js:        const unzipProc = child_process.spawn('tar', ['xvf', zipPath, '-C', destinationDir], { stdio: 'inherit' });\\n\",\n",
      "c:\\python\\script\\notebooks\\ripgrep.ipynb:    \"pattern = 'child_process'  # Replace with your actual search pattern\\n\",\n",
      "\n",
      "Execution Time: 0.2624 seconds\n"
     ]
    }
   ],
   "source": [
    "#this is with timer\n",
    "\n",
    "import subprocess\n",
    "import time\n",
    "\n",
    "def run_ripgrep(pattern, path='c:\\\\python\\\\script'):\n",
    "    start_time = time.time()  # Record the start time\n",
    "    try:\n",
    "        # Run ripgrep command\n",
    "        result = subprocess.run(['rg', pattern, path], \n",
    "                                capture_output=True, \n",
    "                                text=True, \n",
    "                                check=True)\n",
    "        end_time = time.time()  # Record the end time\n",
    "        execution_time = end_time - start_time  # Calculate execution time\n",
    "        return result.stdout, execution_time  # Return output and execution time\n",
    "    except subprocess.CalledProcessError as e:\n",
    "        return f\"Error occurred: {e.stderr}\", None\n",
    "\n",
    "# Example usage\n",
    "pattern = 'child_process'  # Replace with your actual search pattern\n",
    "output, execution_time = run_ripgrep(pattern)\n",
    "\n",
    "# Print the output and execution time\n",
    "if execution_time is not None:\n",
    "    print(f\"Output:\\n{output}\")\n",
    "    print(f\"Execution Time: {execution_time:.4f} seconds\")\n",
    "else:\n",
    "    print(\"An error occurred.\")"
   ]
  },
  {
   "cell_type": "code",
   "execution_count": null,
   "id": "a8400492-5015-4e38-bb7d-563ce414dd7a",
   "metadata": {},
   "outputs": [
    {
     "data": {
      "application/vnd.jupyter.widget-view+json": {
       "model_id": "8a3c937ebf214074b2374674c4975845",
       "version_major": 2,
       "version_minor": 0
      },
      "text/plain": [
       "Text(value='', description='Search Pattern:', placeholder='Enter pattern to search')"
      ]
     },
     "metadata": {},
     "output_type": "display_data"
    },
    {
     "data": {
      "application/vnd.jupyter.widget-view+json": {
       "model_id": "13b951f48c844b6ca1cd3cdcecc37f76",
       "version_major": 2,
       "version_minor": 0
      },
      "text/plain": [
       "HTML(value='')"
      ]
     },
     "metadata": {},
     "output_type": "display_data"
    },
    {
     "name": "stderr",
     "output_type": "stream",
     "text": [
      "Exception in thread Thread-17 (_readerthread):\n",
      "Traceback (most recent call last):\n",
      "  File \"c:\\python\\Lib\\threading.py\", line 1075, in _bootstrap_inner\n",
      "    self.run()\n",
      "  File \"c:\\python\\Lib\\site-packages\\ipykernel\\ipkernel.py\", line 766, in run_closure\n",
      "    _threading_Thread_run(self)\n",
      "  File \"c:\\python\\Lib\\threading.py\", line 1012, in run\n",
      "    self._target(*self._args, **self._kwargs)\n",
      "  File \"c:\\python\\Lib\\subprocess.py\", line 1599, in _readerthread\n",
      "    buffer.append(fh.read())\n",
      "                  ^^^^^^^^^\n",
      "  File \"c:\\python\\Lib\\encodings\\cp1252.py\", line 23, in decode\n",
      "    return codecs.charmap_decode(input,self.errors,decoding_table)[0]\n",
      "           ^^^^^^^^^^^^^^^^^^^^^^^^^^^^^^^^^^^^^^^^^^^^^^^^^^^^^^^\n",
      "UnicodeDecodeError: 'charmap' codec can't decode byte 0x9d in position 430863: character maps to <undefined>\n",
      "Exception in thread Thread-19 (_readerthread):\n",
      "Traceback (most recent call last):\n",
      "  File \"c:\\python\\Lib\\threading.py\", line 1075, in _bootstrap_inner\n",
      "    self.run()\n",
      "  File \"c:\\python\\Lib\\site-packages\\ipykernel\\ipkernel.py\", line 766, in run_closure\n",
      "    _threading_Thread_run(self)\n",
      "  File \"c:\\python\\Lib\\threading.py\", line 1012, in run\n",
      "    self._target(*self._args, **self._kwargs)\n",
      "  File \"c:\\python\\Lib\\subprocess.py\", line 1599, in _readerthread\n",
      "    buffer.append(fh.read())\n",
      "                  ^^^^^^^^^\n",
      "  File \"c:\\python\\Lib\\encodings\\cp1252.py\", line 23, in decode\n",
      "    return codecs.charmap_decode(input,self.errors,decoding_table)[0]\n",
      "           ^^^^^^^^^^^^^^^^^^^^^^^^^^^^^^^^^^^^^^^^^^^^^^^^^^^^^^^\n",
      "UnicodeDecodeError: 'charmap' codec can't decode byte 0x8d in position 11327385: character maps to <undefined>\n",
      "Exception in thread Thread-21 (_readerthread):\n",
      "Traceback (most recent call last):\n",
      "  File \"c:\\python\\Lib\\threading.py\", line 1075, in _bootstrap_inner\n",
      "    self.run()\n",
      "  File \"c:\\python\\Lib\\site-packages\\ipykernel\\ipkernel.py\", line 766, in run_closure\n",
      "    _threading_Thread_run(self)\n",
      "  File \"c:\\python\\Lib\\threading.py\", line 1012, in run\n",
      "    self._target(*self._args, **self._kwargs)\n",
      "  File \"c:\\python\\Lib\\subprocess.py\", line 1599, in _readerthread\n",
      "    buffer.append(fh.read())\n",
      "                  ^^^^^^^^^\n",
      "  File \"c:\\python\\Lib\\encodings\\cp1252.py\", line 23, in decode\n",
      "    return codecs.charmap_decode(input,self.errors,decoding_table)[0]\n",
      "           ^^^^^^^^^^^^^^^^^^^^^^^^^^^^^^^^^^^^^^^^^^^^^^^^^^^^^^^\n",
      "UnicodeDecodeError: 'charmap' codec can't decode byte 0x81 in position 103611: character maps to <undefined>\n",
      "Exception in thread Thread-35 (_readerthread):\n",
      "Traceback (most recent call last):\n",
      "  File \"c:\\python\\Lib\\threading.py\", line 1075, in _bootstrap_inner\n",
      "    self.run()\n",
      "  File \"c:\\python\\Lib\\site-packages\\ipykernel\\ipkernel.py\", line 766, in run_closure\n",
      "    _threading_Thread_run(self)\n",
      "  File \"c:\\python\\Lib\\threading.py\", line 1012, in run\n",
      "    self._target(*self._args, **self._kwargs)\n",
      "  File \"c:\\python\\Lib\\subprocess.py\", line 1599, in _readerthread\n",
      "    buffer.append(fh.read())\n",
      "                  ^^^^^^^^^\n",
      "  File \"c:\\python\\Lib\\encodings\\cp1252.py\", line 23, in decode\n",
      "    return codecs.charmap_decode(input,self.errors,decoding_table)[0]\n",
      "           ^^^^^^^^^^^^^^^^^^^^^^^^^^^^^^^^^^^^^^^^^^^^^^^^^^^^^^^\n",
      "UnicodeDecodeError: 'charmap' codec can't decode byte 0x90 in position 25559: character maps to <undefined>\n"
     ]
    }
   ],
   "source": [
    "#graphic UI\n",
    "import subprocess\n",
    "import time\n",
    "from IPython.display import display, HTML, Javascript\n",
    "import ipywidgets as widgets\n",
    "\n",
    "def run_ripgrep(pattern, path='c:\\\\python\\\\script'):\n",
    "    start_time = time.time()  # Record the start time\n",
    "    try:\n",
    "        # Run ripgrep command\n",
    "        result = subprocess.run(['rg', pattern, path], \n",
    "                                capture_output=True, \n",
    "                                text=True, \n",
    "                                check=True)\n",
    "        end_time = time.time()  # Record the end time\n",
    "        execution_time = end_time - start_time  # Calculate execution time\n",
    "        return result.stdout, execution_time  # Return output and execution time\n",
    "    except subprocess.CalledProcessError as e:\n",
    "        return f\"Error occurred: {e.stderr}\", None\n",
    "\n",
    "def search_and_display(change):\n",
    "    pattern = change['new']\n",
    "    if pattern:  # Ensure there's input\n",
    "        output, execution_time = run_ripgrep(pattern)\n",
    "        \n",
    "        if execution_time is not None:\n",
    "            result_html = f\"<pre>{output}</pre><p>Execution Time: {execution_time:.4f} seconds</p>\"\n",
    "        else:\n",
    "            result_html = \"<p>An error occurred while executing the command.</p>\"\n",
    "        \n",
    "        output_area.value = result_html\n",
    "\n",
    "# Create input and output widgets\n",
    "input_box = widgets.Text(\n",
    "    description='Search Pattern:',\n",
    "    placeholder='Enter pattern to search'\n",
    ")\n",
    "output_area = widgets.HTML(value='')\n",
    "\n",
    "# Set up the event listener for input changes\n",
    "input_box.observe(search_and_display, names='value')\n",
    "\n",
    "# Display the input box and output area\n",
    "display(input_box, output_area)"
   ]
  }
 ],
 "metadata": {
  "kernelspec": {
   "display_name": "Python 3",
   "language": "python",
   "name": "python3"
  },
  "language_info": {
   "codemirror_mode": {
    "name": "ipython",
    "version": 3
   },
   "file_extension": ".py",
   "mimetype": "text/x-python",
   "name": "python",
   "nbconvert_exporter": "python",
   "pygments_lexer": "ipython3",
   "version": "3.12.7"
  }
 },
 "nbformat": 4,
 "nbformat_minor": 5
}
