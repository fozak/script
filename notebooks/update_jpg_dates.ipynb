{
 "cells": [
  {
   "cell_type": "markdown",
   "id": "69ca92ff-c062-4bb2-aad1-db1a4d292ea8",
   "metadata": {},
   "source": [
    "Explanation of the Code\n",
    "PowerShell Command:\n",
    "\n",
    "The command powershell -command \"(Get-Item '{file_path}').CreationTime = '{now}'\" sets the creation time of the specified file to the current time.\n",
    "Date Format:\n",
    "\n",
    "The date format used here is YYYY-MM-DD HH:MM:SS, which is compatible with the PowerShell command for setting the creation time.\n",
    "Iterate Through Files:\n",
    "\n",
    "The script iterates through all JPEG files in the specified directory and updates their creation date.\n",
    "How to Use the Code\n",
    "Set the Directory Path:\n",
    "\n",
    "Modify the line directory = 'path/to/your/images' to point to the actual directory containing your JPEG files.\n",
    "Run the Code:\n",
    "\n",
    "Execute the cell in your JupyterLab environment.\n",
    "Output:\n",
    "\n",
    "It will print the names of the files whose creation dates were successfully updated, or an error message if something goes wrong.\n",
    "Important Notes\n",
    "PowerShell Availability: This approach requires that you are running the script on a Windows environment where PowerShell is available.\n",
    "Permissions: Ensure you have the necessary permissions to modify file attributes in the specified directory.\n",
    "Backup: Always make sure to have backups of your files before running batch updates, as changes to file metadata can sometimes lead to unexpected results.\n",
    "If you have any further questions or need additional assistance, feel free to ask!"
   ]
  },
  {
   "cell_type": "code",
   "execution_count": 6,
   "id": "65c68634-1b0b-46f4-8ee3-4653219e68b3",
   "metadata": {},
   "outputs": [
    {
     "name": "stdout",
     "output_type": "stream",
     "text": [
      "Updated creation date for: petrovka\\20220414_105247.jpg\n",
      "Updated creation date for: petrovka\\20220414_114330.jpg\n",
      "Updated creation date for: petrovka\\20220414_141342.jpg\n",
      "Updated creation date for: petrovka\\20220414_142002.jpg\n",
      "Updated creation date for: petrovka\\20220414_143102.jpg\n",
      "Updated creation date for: petrovka\\20220414_144216.jpg\n",
      "Updated creation date for: petrovka\\20220414_160737.jpg\n",
      "Updated creation date for: petrovka\\20220414_160744.jpg\n",
      "Updated creation date for: petrovka\\20220414_160801.jpg\n",
      "Updated creation date for: petrovka\\20220414_160837.jpg\n",
      "Updated creation date for: petrovka\\20220414_160845.jpg\n",
      "Updated creation date for: petrovka\\20220414_160902.jpg\n"
     ]
    }
   ],
   "source": [
    "import os\n",
    "import subprocess\n",
    "from datetime import datetime\n",
    "\n",
    "# Function to update the file creation date\n",
    "def update_file_creation_date(file_path):\n",
    "    try:\n",
    "        # Get current date in the required format\n",
    "        now = datetime.now().strftime('%Y-%m-%d %H:%M:%S')\n",
    "\n",
    "        # Use PowerShell to set the creation date\n",
    "        command = f'powershell -command \"(Get-Item \\'{file_path}\\').CreationTime = \\'{now}\\'\"'\n",
    "        subprocess.run(command, shell=True)\n",
    "\n",
    "        print(f\"Updated creation date for: {file_path}\")\n",
    "\n",
    "    except Exception as e:\n",
    "        print(f\"Failed to update {file_path}: {e}\")\n",
    "\n",
    "# Directory containing your JPEG files\n",
    "directory = 'petrovka'  # Change this to your folder path\n",
    "\n",
    "# Iterate through all files in the directory\n",
    "for filename in os.listdir(directory):\n",
    "    if filename.lower().endswith('.jpg') or filename.lower().endswith('.jpeg'):\n",
    "        file_path = os.path.join(directory, filename)\n",
    "        update_file_creation_date(file_path)"
   ]
  },
  {
   "cell_type": "code",
   "execution_count": null,
   "id": "41e836a1-9ab9-4597-86d4-2449893fd18a",
   "metadata": {},
   "outputs": [],
   "source": []
  }
 ],
 "metadata": {
  "kernelspec": {
   "display_name": "Python 3 (ipykernel)",
   "language": "python",
   "name": "python3"
  },
  "language_info": {
   "codemirror_mode": {
    "name": "ipython",
    "version": 3
   },
   "file_extension": ".py",
   "mimetype": "text/x-python",
   "name": "python",
   "nbconvert_exporter": "python",
   "pygments_lexer": "ipython3",
   "version": "3.12.7"
  }
 },
 "nbformat": 4,
 "nbformat_minor": 5
}
