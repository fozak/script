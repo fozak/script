{
 "cells": [
  {
   "cell_type": "code",
   "execution_count": 2,
   "id": "d6c45729-7e51-422b-b96b-3628f9a47fed",
   "metadata": {},
   "outputs": [
    {
     "data": {
      "application/vnd.jupyter.widget-view+json": {
       "model_id": "6551e35f32854f80ade78349d98744a8",
       "version_major": 2,
       "version_minor": 0
      },
      "text/plain": [
       "tokenizer_config.json:   0%|          | 0.00/1.20k [00:00<?, ?B/s]"
      ]
     },
     "metadata": {},
     "output_type": "display_data"
    },
    {
     "data": {
      "application/vnd.jupyter.widget-view+json": {
       "model_id": "564e0f38c39c4e08b9d70f6b2047f125",
       "version_major": 2,
       "version_minor": 0
      },
      "text/plain": [
       "vocab.txt:   0%|          | 0.00/213k [00:00<?, ?B/s]"
      ]
     },
     "metadata": {},
     "output_type": "display_data"
    },
    {
     "data": {
      "application/vnd.jupyter.widget-view+json": {
       "model_id": "c4ca9c633b1b435296cab57ebc7f24f9",
       "version_major": 2,
       "version_minor": 0
      },
      "text/plain": [
       "tokenizer.json:   0%|          | 0.00/669k [00:00<?, ?B/s]"
      ]
     },
     "metadata": {},
     "output_type": "display_data"
    },
    {
     "data": {
      "application/vnd.jupyter.widget-view+json": {
       "model_id": "03db499135254b5e89ea4e316707891e",
       "version_major": 2,
       "version_minor": 0
      },
      "text/plain": [
       "special_tokens_map.json:   0%|          | 0.00/125 [00:00<?, ?B/s]"
      ]
     },
     "metadata": {},
     "output_type": "display_data"
    },
    {
     "data": {
      "application/vnd.jupyter.widget-view+json": {
       "model_id": "d1a1eafac122485e989ac730eb0b5d4a",
       "version_major": 2,
       "version_minor": 0
      },
      "text/plain": [
       "config.json:   0%|          | 0.00/926 [00:00<?, ?B/s]"
      ]
     },
     "metadata": {},
     "output_type": "display_data"
    },
    {
     "data": {
      "application/vnd.jupyter.widget-view+json": {
       "model_id": "f6bc8e4dfed14040b3811121bfa25481",
       "version_major": 2,
       "version_minor": 0
      },
      "text/plain": [
       "model.safetensors:   0%|          | 0.00/261M [00:00<?, ?B/s]"
      ]
     },
     "metadata": {},
     "output_type": "display_data"
    },
    {
     "name": "stderr",
     "output_type": "stream",
     "text": [
      "Device set to use cpu\n"
     ]
    },
    {
     "name": "stdout",
     "output_type": "stream",
     "text": [
      "[{'entity': 'B-PER', 'score': 0.99110633, 'index': 4, 'word': 'Wolfgang', 'start': 11, 'end': 19}, {'entity': 'B-LOC', 'score': 0.9967968, 'index': 9, 'word': 'Berlin', 'start': 34, 'end': 40}]\n"
     ]
    }
   ],
   "source": [
    "from transformers import AutoTokenizer, AutoModelForTokenClassification\n",
    "from transformers import pipeline\n",
    "\n",
    "tokenizer = AutoTokenizer.from_pretrained(\"dslim/distilbert-NER\")\n",
    "model = AutoModelForTokenClassification.from_pretrained(\"dslim/distilbert-NER\")\n",
    "\n",
    "nlp = pipeline(\"ner\", model=model, tokenizer=tokenizer)\n",
    "example = \"My name is Wolfgang and I live in Berlin\"\n",
    "\n",
    "ner_results = nlp(example)\n",
    "print(ner_results)\n"
   ]
  },
  {
   "cell_type": "code",
   "execution_count": 4,
   "id": "05ec5b4a-4451-402b-8a26-4586684be49d",
   "metadata": {},
   "outputs": [
    {
     "name": "stderr",
     "output_type": "stream",
     "text": [
      "Device set to use cpu\n"
     ]
    },
    {
     "name": "stdout",
     "output_type": "stream",
     "text": [
      "[{'entity': 'B-PER', 'score': 0.99775106, 'index': 15, 'word': 'Jose', 'start': 72, 'end': 76}, {'entity': 'I-PER', 'score': 0.9985941, 'index': 16, 'word': 'G', 'start': 77, 'end': 78}, {'entity': 'I-PER', 'score': 0.9979678, 'index': 17, 'word': '##aro', 'start': 78, 'end': 81}, {'entity': 'I-PER', 'score': 0.99806386, 'index': 18, 'word': '##fa', 'start': 81, 'end': 83}, {'entity': 'I-PER', 'score': 0.9955069, 'index': 19, 'word': '##lo', 'start': 83, 'end': 85}, {'entity': 'B-LOC', 'score': 0.9974896, 'index': 27, 'word': 'Boston', 'start': 116, 'end': 122}, {'entity': 'B-PER', 'score': 0.99362457, 'index': 33, 'word': 'Jose', 'start': 140, 'end': 144}, {'entity': 'I-PER', 'score': 0.9961909, 'index': 34, 'word': 'G', 'start': 145, 'end': 146}, {'entity': 'I-PER', 'score': 0.9953945, 'index': 35, 'word': '##aro', 'start': 146, 'end': 149}, {'entity': 'I-PER', 'score': 0.9958074, 'index': 36, 'word': '##fa', 'start': 149, 'end': 151}, {'entity': 'I-PER', 'score': 0.9951652, 'index': 37, 'word': '##lo', 'start': 151, 'end': 153}, {'entity': 'B-PER', 'score': 0.9708853, 'index': 71, 'word': 'Jose', 'start': 307, 'end': 311}, {'entity': 'B-LOC', 'score': 0.8043904, 'index': 150, 'word': 'Boston', 'start': 661, 'end': 667}, {'entity': 'I-LOC', 'score': 0.51184016, 'index': 151, 'word': 'Tango', 'start': 668, 'end': 673}, {'entity': 'B-PER', 'score': 0.9749281, 'index': 155, 'word': 'Jose', 'start': 693, 'end': 697}, {'entity': 'B-PER', 'score': 0.981751, 'index': 202, 'word': 'Jose', 'start': 920, 'end': 924}, {'entity': 'B-PER', 'score': 0.7442954, 'index': 220, 'word': 'Vicky', 'start': 1004, 'end': 1009}, {'entity': 'B-PER', 'score': 0.9839804, 'index': 237, 'word': 'Vicky', 'start': 1092, 'end': 1097}]\n"
     ]
    }
   ],
   "source": [
    "from transformers import AutoTokenizer, AutoModelForTokenClassification\n",
    "from transformers import pipeline\n",
    "import torch\n",
    "\n",
    "# Load the tokenizer and model\n",
    "tokenizer = AutoTokenizer.from_pretrained(\"dslim/distilbert-NER\")\n",
    "model = AutoModelForTokenClassification.from_pretrained(\"dslim/distilbert-NER\")\n",
    "\n",
    "# Check if a GPU is available and use it\n",
    "device = 0 if torch.cuda.is_available() else -1  # Use -1 for CPU and 0 for GPU\n",
    "\n",
    "# Create the NER pipeline\n",
    "nlp = pipeline(\"ner\", model=model, tokenizer=tokenizer, device=device)\n",
    "\n",
    "# Function to process a stream of text\n",
    "def process_streaming_text(stream):\n",
    "    results = []\n",
    "    batch_size = 5  # Adjust batch size based on your needs\n",
    "    batch = []\n",
    "\n",
    "    for text in stream:\n",
    "        batch.append(text)\n",
    "        if len(batch) >= batch_size:\n",
    "            # Process the batch and clear it\n",
    "            ner_results = nlp(batch)\n",
    "            results.extend(ner_results)\n",
    "            batch = []\n",
    "\n",
    "    # Process any remaining sentences\n",
    "    if batch:\n",
    "        ner_results = nlp(batch)\n",
    "        results.extend(ner_results)\n",
    "\n",
    "    return results\n",
    "\n",
    "# Example streaming text\n",
    "streaming_example = [\n",
    "    \"\"\"This Weekend\n",
    "\n",
    "February 21-23, 2025\n",
    "\n",
    "\n",
    "\n",
    "Tango Weekend with Guest\n",
    "\n",
    "teacher Jose Garofalo\n",
    "\n",
    "Let's warmly welcome back to Boston the incomparable Jose Garofalo!\n",
    "\n",
    "\n",
    "\n",
    "His return is not just a homecoming; it's a celebration of the vibrant tango community that he has helped cultivate with his passion and expertise.\n",
    "\n",
    "Jose's workshops are a collection of enriching experiences, filled with laughter, growth, and unforgettable memories.\n",
    "\n",
    "\n",
    "\n",
    "Whether you're a seasoned dancer or just starting your tango journey, this is a unique opportunity to learn from a world-class instructor who knows how to bring out the joy in every step.\n",
    "\n",
    "\n",
    "\n",
    "So, let's come together as members of the Boston Tango community and make Jose's return an event to remember!\n",
    "\n",
    "\n",
    "\n",
    "Join us in the upcoming workshops and dancing and let’s keep the spirit of tango alive and thriving in our beloved city!\n",
    "\n",
    "\n",
    "\n",
    "Check below for all the activities coming up this weekend.\n",
    "\n",
    "\n",
    "\n",
    "\n",
    "\n",
    "Jose is available for private lessons from Friday 2/21 until Thursday 2/27. Contact Vicky to reserve your spot.\n",
    "\n",
    "\n",
    "\n",
    "If you have any questions about the weekend, please call Vicky at 617-721-4872\n",
    "\n",
    "\"\"\"\n",
    "]\n",
    "\n",
    "# Process the streaming text\n",
    "ner_results = process_streaming_text(streaming_example)\n",
    "\n",
    "# Print the results\n",
    "for result in ner_results:\n",
    "    print(result)"
   ]
  },
  {
   "cell_type": "code",
   "execution_count": null,
   "id": "fdb7b9d2-9b2a-42ea-ae0c-eb06f7c52d9c",
   "metadata": {},
   "outputs": [],
   "source": []
  }
 ],
 "metadata": {
  "kernelspec": {
   "display_name": "Python 3 (ipykernel)",
   "language": "python",
   "name": "python3"
  },
  "language_info": {
   "codemirror_mode": {
    "name": "ipython",
    "version": 3
   },
   "file_extension": ".py",
   "mimetype": "text/x-python",
   "name": "python",
   "nbconvert_exporter": "python",
   "pygments_lexer": "ipython3",
   "version": "3.12.7"
  }
 },
 "nbformat": 4,
 "nbformat_minor": 5
}
