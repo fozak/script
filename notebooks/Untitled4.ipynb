{
 "cells": [
  {
   "cell_type": "code",
   "execution_count": 1,
   "id": "007510b2-a13f-46f6-9ce1-91429b03a1c4",
   "metadata": {},
   "outputs": [
    {
     "name": "stdout",
     "output_type": "stream",
     "text": [
      "Fetching: https://frappe.io/files/page_scripts/JavaScript-f90c8-5620968ae7.js?v=d6616b96f1\n",
      "Fetching: https://frappe.io/files/page_scripts/JavaScript-f991c-1980f7b50e.js?v=8c30295f34\n",
      "Fetching: https://frappe.io/files/page_scripts/builder-asset-script.js?v=20fae7dd77\n",
      "\n",
      "Combined script saved to: sitescripts.js\n"
     ]
    }
   ],
   "source": [
    "import requests\n",
    "\n",
    "# URLs of the JavaScript files\n",
    "script_urls = [\n",
    "    \"https://frappe.io/files/page_scripts/JavaScript-f90c8-5620968ae7.js?v=d6616b96f1\",\n",
    "    \"https://frappe.io/files/page_scripts/JavaScript-f991c-1980f7b50e.js?v=8c30295f34\",\n",
    "    \"https://frappe.io/files/page_scripts/builder-asset-script.js?v=20fae7dd77\"\n",
    "]\n",
    "\n",
    "combined_script = \"\"\n",
    "\n",
    "for url in script_urls:\n",
    "    print(f\"Fetching: {url}\")\n",
    "    response = requests.get(url)\n",
    "    if response.status_code == 200:\n",
    "        combined_script += f\"\\n\\n// --- START {url} ---\\n\"\n",
    "        combined_script += response.text\n",
    "        combined_script += f\"\\n// --- END {url} ---\\n\"\n",
    "    else:\n",
    "        print(f\"Failed to fetch: {url} (status {response.status_code})\")\n",
    "\n",
    "# Save to local file\n",
    "output_file = \"sitescripts.js\"\n",
    "with open(output_file, \"w\", encoding=\"utf-8\") as f:\n",
    "    f.write(combined_script)\n",
    "\n",
    "print(f\"\\nCombined script saved to: {output_file}\")\n"
   ]
  },
  {
   "cell_type": "code",
   "execution_count": null,
   "id": "953bda5c-b3f4-41b9-acea-c801044f70c9",
   "metadata": {},
   "outputs": [],
   "source": []
  }
 ],
 "metadata": {
  "kernelspec": {
   "display_name": "Python 3 (ipykernel)",
   "language": "python",
   "name": "python3"
  },
  "language_info": {
   "codemirror_mode": {
    "name": "ipython",
    "version": 3
   },
   "file_extension": ".py",
   "mimetype": "text/x-python",
   "name": "python",
   "nbconvert_exporter": "python",
   "pygments_lexer": "ipython3",
   "version": "3.12.7"
  }
 },
 "nbformat": 4,
 "nbformat_minor": 5
}
