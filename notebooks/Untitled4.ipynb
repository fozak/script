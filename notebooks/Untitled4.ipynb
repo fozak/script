{
 "cells": [
  {
   "cell_type": "code",
   "execution_count": 1,
   "id": "007510b2-a13f-46f6-9ce1-91429b03a1c4",
   "metadata": {},
   "outputs": [
    {
     "name": "stdout",
     "output_type": "stream",
     "text": [
      "Fetching: https://frappe.io/files/page_scripts/JavaScript-f90c8-5620968ae7.js?v=d6616b96f1\n",
      "Fetching: https://frappe.io/files/page_scripts/JavaScript-f991c-1980f7b50e.js?v=8c30295f34\n",
      "Fetching: https://frappe.io/files/page_scripts/builder-asset-script.js?v=20fae7dd77\n",
      "\n",
      "Combined script saved to: sitescripts.js\n"
     ]
    }
   ],
   "source": [
    "import requests\n",
    "\n",
    "# URLs of the JavaScript files\n",
    "script_urls = [\n",
    "    \"https://frappe.io/files/page_scripts/JavaScript-f90c8-5620968ae7.js?v=d6616b96f1\",\n",
    "    \"https://frappe.io/files/page_scripts/JavaScript-f991c-1980f7b50e.js?v=8c30295f34\",\n",
    "    \"https://frappe.io/files/page_scripts/builder-asset-script.js?v=20fae7dd77\"\n",
    "]\n",
    "\n",
    "combined_script = \"\"\n",
    "\n",
    "for url in script_urls:\n",
    "    print(f\"Fetching: {url}\")\n",
    "    response = requests.get(url)\n",
    "    if response.status_code == 200:\n",
    "        combined_script += f\"\\n\\n// --- START {url} ---\\n\"\n",
    "        combined_script += response.text\n",
    "        combined_script += f\"\\n// --- END {url} ---\\n\"\n",
    "    else:\n",
    "        print(f\"Failed to fetch: {url} (status {response.status_code})\")\n",
    "\n",
    "# Save to local file\n",
    "output_file = \"sitescripts.js\"\n",
    "with open(output_file, \"w\", encoding=\"utf-8\") as f:\n",
    "    f.write(combined_script)\n",
    "\n",
    "print(f\"\\nCombined script saved to: {output_file}\")\n"
   ]
  },
  {
   "cell_type": "code",
   "execution_count": 2,
   "id": "953bda5c-b3f4-41b9-acea-c801044f70c9",
   "metadata": {},
   "outputs": [
    {
     "name": "stdout",
     "output_type": "stream",
     "text": [
      "Combined CSS saved to 'combined_styles.css'\n"
     ]
    }
   ],
   "source": [
    "import requests\n",
    "\n",
    "# List of CSS URLs\n",
    "css_urls = [\n",
    "    \"https://frappe.io/files/page_styles/CSS-19e43-f73860a91d.css?v=a70a2e8b74\",\n",
    "    \"https://frappe.io/files/page_styles/CSS-7a3e4-b44688c37d.css?v=df9dd88917\",\n",
    "    \"https://frappe.io/files/page_styles/builder-asset-style.css?v=17d52240fb\"\n",
    "]\n",
    "\n",
    "# Fetch and combine CSS content\n",
    "combined_css = \"\"\n",
    "for url in css_urls:\n",
    "    response = requests.get(url)\n",
    "    if response.status_code == 200:\n",
    "        combined_css += f\"\\n/* --- {url} --- */\\n\"\n",
    "        combined_css += response.text\n",
    "    else:\n",
    "        print(f\"Failed to fetch: {url}\")\n",
    "\n",
    "# Save to one CSS file\n",
    "with open(\"combined_styles.css\", \"w\", encoding=\"utf-8\") as f:\n",
    "    f.write(combined_css)\n",
    "\n",
    "print(\"Combined CSS saved to 'combined_styles.css'\")\n"
   ]
  },
  {
   "cell_type": "code",
   "execution_count": 4,
   "id": "96d943a2-89f4-4147-8983-beee1f3487b8",
   "metadata": {},
   "outputs": [
    {
     "name": "stdout",
     "output_type": "stream",
     "text": [
      "Combined CSS saved to 'combined_styles.css'\n"
     ]
    }
   ],
   "source": [
    "css_urls = [\n",
    "    \"https://docs.frappe.io/assets/frappe/dist/css/website.bundle.RHGQXNFY.css\",\n",
    "    \"https://docs.frappe.io/assets/frappe/css/hljs-night-owl.css\",\n",
    "    \"https://docs.frappe.io/assets/wiki/dist/css/wiki.bundle.62WRFBMX.css\",\n",
    "    \"https://docs.frappe.io/assets/wiki/dist/css/contributions.bundle.V5SJOPBZ.css\"\n",
    "]\n",
    "\n",
    "# Fetch and combine CSS content\n",
    "combined_css = \"\"\n",
    "for url in css_urls:\n",
    "    response = requests.get(url)\n",
    "    if response.status_code == 200:\n",
    "        combined_css += f\"\\n/* --- {url} --- */\\n\"\n",
    "        combined_css += response.text\n",
    "    else:\n",
    "        print(f\"Failed to fetch: {url}\")\n",
    "\n",
    "# Save to one CSS file\n",
    "with open(\"combined_docs_styles.css\", \"w\", encoding=\"utf-8\") as f:\n",
    "    f.write(combined_css)\n",
    "\n",
    "print(\"Combined CSS saved to 'combined_styles.css'\")"
   ]
  },
  {
   "cell_type": "code",
   "execution_count": null,
   "id": "9081c2c7-2e86-4257-963a-7282a50c8cd8",
   "metadata": {},
   "outputs": [],
   "source": []
  }
 ],
 "metadata": {
  "kernelspec": {
   "display_name": "Python 3 (ipykernel)",
   "language": "python",
   "name": "python3"
  },
  "language_info": {
   "codemirror_mode": {
    "name": "ipython",
    "version": 3
   },
   "file_extension": ".py",
   "mimetype": "text/x-python",
   "name": "python",
   "nbconvert_exporter": "python",
   "pygments_lexer": "ipython3",
   "version": "3.12.7"
  }
 },
 "nbformat": 4,
 "nbformat_minor": 5
}
