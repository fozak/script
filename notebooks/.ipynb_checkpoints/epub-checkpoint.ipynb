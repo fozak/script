{
 "cells": [
  {
   "cell_type": "code",
   "execution_count": 2,
   "id": "4ead9763-ec5b-419a-b0bd-a0adaba4abf6",
   "metadata": {},
   "outputs": [
    {
     "name": "stdout",
     "output_type": "stream",
     "text": [
      "Requirement already satisfied: ebooklib in c:\\python\\lib\\site-packages (0.19)\n",
      "Requirement already satisfied: beautifulsoup4 in c:\\python\\lib\\site-packages (4.12.3)\n",
      "Requirement already satisfied: lxml in c:\\python\\lib\\site-packages (5.3.0)\n",
      "Requirement already satisfied: six in c:\\python\\lib\\site-packages (from ebooklib) (1.16.0)\n",
      "Requirement already satisfied: soupsieve>1.2 in c:\\python\\lib\\site-packages (from beautifulsoup4) (2.6)\n"
     ]
    },
    {
     "name": "stderr",
     "output_type": "stream",
     "text": [
      "\n",
      "[notice] A new release of pip is available: 25.0.1 -> 25.1.1\n",
      "[notice] To update, run: python.exe -m pip install --upgrade pip\n"
     ]
    }
   ],
   "source": [
    "!pip install ebooklib beautifulsoup4 lxml"
   ]
  },
  {
   "cell_type": "code",
   "execution_count": 4,
   "id": "ed4d5faa-62e0-48c0-8ce8-cb958e401ba7",
   "metadata": {},
   "outputs": [
    {
     "name": "stdout",
     "output_type": "stream",
     "text": [
      "Text extracted to book.txt\n"
     ]
    },
    {
     "name": "stderr",
     "output_type": "stream",
     "text": [
      "C:\\Users\\i7714\\AppData\\Local\\Temp\\ipykernel_8484\\491349753.py:11: XMLParsedAsHTMLWarning: It looks like you're parsing an XML document using an HTML parser. If this really is an HTML document (maybe it's XHTML?), you can ignore or filter this warning. If it's XML, you should know that using an XML parser will be more reliable. To parse this document as XML, make sure you have the lxml package installed, and pass the keyword argument `features=\"xml\"` into the BeautifulSoup constructor.\n",
      "  soup = BeautifulSoup(item.get_content(), 'lxml')\n"
     ]
    }
   ],
   "source": [
    "from ebooklib import epub\n",
    "import ebooklib\n",
    "from bs4 import BeautifulSoup\n",
    "\n",
    "def epub_to_txt(epub_path, output_txt_path):\n",
    "    book = epub.read_epub(epub_path)\n",
    "    all_text = []\n",
    "\n",
    "    for item in book.get_items():\n",
    "        if item.get_type() == ebooklib.ITEM_DOCUMENT:\n",
    "            soup = BeautifulSoup(item.get_content(), 'lxml')\n",
    "            text = soup.get_text(separator='\\n')\n",
    "            all_text.append(text)\n",
    "\n",
    "    with open(output_txt_path, 'w', encoding='utf-8') as f:\n",
    "        f.write('\\n\\n'.join(all_text))\n",
    "\n",
    "    print(f\"Text extracted to {output_txt_path}\")\n",
    "\n",
    "# Example usage:\n",
    "epub_to_txt('book.epub', 'book.txt')\n"
   ]
  },
  {
   "cell_type": "code",
   "execution_count": null,
   "id": "0fa692ce-71e3-41a9-ae54-b70b15bbb803",
   "metadata": {},
   "outputs": [],
   "source": []
  }
 ],
 "metadata": {
  "kernelspec": {
   "display_name": "Python 3 (ipykernel)",
   "language": "python",
   "name": "python3"
  },
  "language_info": {
   "codemirror_mode": {
    "name": "ipython",
    "version": 3
   },
   "file_extension": ".py",
   "mimetype": "text/x-python",
   "name": "python",
   "nbconvert_exporter": "python",
   "pygments_lexer": "ipython3",
   "version": "3.12.7"
  }
 },
 "nbformat": 4,
 "nbformat_minor": 5
}
