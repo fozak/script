{
 "cells": [
  {
   "cell_type": "code",
   "execution_count": null,
   "id": "995a696b-f225-40b2-a8a6-c718dd0a6969",
   "metadata": {},
   "outputs": [],
   "source": [
    "#generate service account and keys first"
   ]
  },
  {
   "cell_type": "code",
   "execution_count": 6,
   "id": "a6613159-3a02-473b-97ad-1435574d1245",
   "metadata": {},
   "outputs": [
    {
     "name": "stdout",
     "output_type": "stream",
     "text": [
      "['name', 'linkedin_connected', 'region', 'title']\n"
     ]
    }
   ],
   "source": [
    "import json\n",
    "import gspread\n",
    "from google.oauth2.service_account import Credentials\n",
    "\n",
    "# Path to your service account key file\n",
    "SERVICE_ACCOUNT_FILE = r'C:\\!DISK\\100 DOCUMENTS\\sheetcrm-442321-7f5c3e0e4df9.json'\n",
    "\n",
    "# Define the scopes\n",
    "SCOPES = ['https://www.googleapis.com/auth/spreadsheets.readonly']\n",
    "\n",
    "# Create credentials using the service account\n",
    "credentials = Credentials.from_service_account_file(SERVICE_ACCOUNT_FILE, scopes=SCOPES)\n",
    "\n",
    "# Authorize and create a gspread client\n",
    "gc = gspread.authorize(credentials)\n",
    "\n",
    "# Specify the Google Sheet ID and the desired range\n",
    "SPREADSHEET_ID = '1Q1FidUZaPYZ5MznVw8J9lJIDqCXP7wXoZrPK9zYTZMU'\n",
    "SHEET_NAME = 'CONTACTS'\n",
    "RANGE_NAME = 'A1:D10'  # Adjust as necessary\n",
    "\n",
    "def read_google_sheet(spreadsheet_id, range_name, sheet_name):\n",
    "    client = gspread.authorize(credentials)\n",
    "\n",
    "    # Open the spreadsheet by ID\n",
    "    sheet = client.open_by_key(spreadsheet_id)\n",
    "    \n",
    "    # Select the worksheet by name\n",
    "    worksheet = sheet.worksheet(sheet_name)  # Use the actual name of the sheet\n",
    "    \n",
    "    # Get the values in the specified range\n",
    "    data = worksheet.get(range_name)\n",
    "    return data\n",
    "\n",
    "if __name__ == \"__main__\":\n",
    "    # Read data from the Google Sheet\n",
    "    data = read_google_sheet(SPREADSHEET_ID, RANGE_NAME, SHEET_NAME)\n",
    "    for row in data:\n",
    "        print(row)"
   ]
  },
  {
   "cell_type": "code",
   "execution_count": null,
   "id": "33a9b873-2fc4-4b2f-9dcd-b9195a5a1309",
   "metadata": {},
   "outputs": [],
   "source": []
  }
 ],
 "metadata": {
  "kernelspec": {
   "display_name": "Python 3 (ipykernel)",
   "language": "python",
   "name": "python3"
  },
  "language_info": {
   "codemirror_mode": {
    "name": "ipython",
    "version": 3
   },
   "file_extension": ".py",
   "mimetype": "text/x-python",
   "name": "python",
   "nbconvert_exporter": "python",
   "pygments_lexer": "ipython3",
   "version": "3.12.0"
  }
 },
 "nbformat": 4,
 "nbformat_minor": 5
}
