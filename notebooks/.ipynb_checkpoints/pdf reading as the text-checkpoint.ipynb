{
 "cells": [
  {
   "cell_type": "code",
   "execution_count": 1,
   "id": "9e801a7f-6b6a-46fb-bf8f-6ad5f9017f8e",
   "metadata": {},
   "outputs": [
    {
     "data": {
      "text/plain": [
       "735159"
      ]
     },
     "execution_count": 1,
     "metadata": {},
     "output_type": "execute_result"
    }
   ],
   "source": [
    "import pathlib, pymupdf\n",
    "\n",
    "# Specify the PDF filename directly\n",
    "fname = \"drawing1.pdf\"  # replace with your actual PDF filename\n",
    "\n",
    "with pymupdf.open(fname) as doc:  # open document\n",
    "    text = chr(12).join([page.get_text() for page in doc])\n",
    "    \n",
    "# write as a binary file to support non-ASCII characters\n",
    "pathlib.Path(fname + \".txt\").write_bytes(text.encode())"
   ]
  },
  {
   "cell_type": "code",
   "execution_count": null,
   "id": "83d7ce7f-d379-4bb8-96f8-8a50e779fc8f",
   "metadata": {},
   "outputs": [],
   "source": []
  }
 ],
 "metadata": {
  "kernelspec": {
   "display_name": "Python 3 (ipykernel)",
   "language": "python",
   "name": "python3"
  },
  "language_info": {
   "codemirror_mode": {
    "name": "ipython",
    "version": 3
   },
   "file_extension": ".py",
   "mimetype": "text/x-python",
   "name": "python",
   "nbconvert_exporter": "python",
   "pygments_lexer": "ipython3",
   "version": "3.12.7"
  }
 },
 "nbformat": 4,
 "nbformat_minor": 5
}
