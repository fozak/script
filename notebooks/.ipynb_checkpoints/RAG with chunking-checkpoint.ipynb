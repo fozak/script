{
 "cells": [
  {
   "cell_type": "code",
   "execution_count": 4,
   "id": "9b070bd4-4ea9-4ca5-889c-820bfb48604e",
   "metadata": {},
   "outputs": [
    {
     "name": "stderr",
     "output_type": "stream",
     "text": [
      "C:\\Users\\i7714\\AppData\\Local\\Temp\\ipykernel_12492\\107480734.py:55: LangChainDeprecationWarning: The class `ChatOpenAI` was deprecated in LangChain 0.0.10 and will be removed in 1.0. An updated version of the class exists in the langchain-openai package and should be used instead. To use it run `pip install -U langchain-openai` and import as `from langchain_openai import ChatOpenAI`.\n",
      "  llm=ChatOpenAI(model=\"gpt-4o-mini\"),  # This also needs the API key\n",
      "C:\\Users\\i7714\\AppData\\Local\\Temp\\ipykernel_12492\\107480734.py:62: LangChainDeprecationWarning: The method `Chain.__call__` was deprecated in langchain 0.1.0 and will be removed in 1.0. Use invoke instead.\n",
      "  result = qa_chain(query)\n"
     ]
    },
    {
     "name": "stdout",
     "output_type": "stream",
     "text": [
      "Answer:\n",
      "The authentication in this repo allows for two-factor authentication. You can enable Two Factor Authentication from the System Settings. After enabling it, users can authenticate using their credentials along with a second factor for added security. \n",
      "\n",
      "For accessing the site, after setting it up, users can use the default login credentials:\n",
      "- Username: Administrator\n",
      "- Password: admin\n",
      "\n",
      "Additionally, the repository mentions a script for installing dependencies, which also handles password creation for the Frappe \"Administrator\" user and other related users.\n",
      "\n",
      "Sources:\n",
      "C:\\python\\frappe\\realtime\\middlewares\\authenticate.js\n",
      "C:\\python\\frappe\\frappe\\change_log\\v8\\v8_8_0.md\n",
      "C:\\python\\frappe\\README.md\n",
      "C:\\python\\frappe\\frappe\\email\\email.md\n"
     ]
    }
   ],
   "source": [
    "from langchain.embeddings import OpenAIEmbeddings\n",
    "from langchain.vectorstores import FAISS\n",
    "from langchain.document_loaders import TextLoader\n",
    "from langchain.text_splitter import RecursiveCharacterTextSplitter\n",
    "from langchain.chains import RetrievalQA\n",
    "from langchain.chat_models import ChatOpenAI\n",
    "import os\n",
    "\n",
    "# Set your OpenAI API key\n",
    "# Option 1: Set it directly in the code (not recommended for production)\n",
    "os.environ[\"OPENAI_API_KEY\"] = '_____________________******'\n",
    "\n",
    "# Option 2: Or pass it directly to the embeddings object later\n",
    "\n",
    "# 1. Load all text files from your Git repo\n",
    "REPO_DIR = r\"C:\\python\\frappe\"\n",
    "file_extensions = [\".py\", \".md\", \".txt\", \".js\", \".json\"]\n",
    "\n",
    "def get_file_paths(repo_dir):\n",
    "    for root, _, files in os.walk(repo_dir):\n",
    "        for file in files:\n",
    "            if any(file.endswith(ext) for ext in file_extensions):\n",
    "                yield os.path.join(root, file)\n",
    "\n",
    "# 2. Load documents\n",
    "documents = []\n",
    "for filepath in get_file_paths(REPO_DIR):\n",
    "    try:\n",
    "        loader = TextLoader(filepath, encoding='utf-8')\n",
    "        documents.extend(loader.load())\n",
    "    except Exception as e:\n",
    "        print(f\"Failed to load {filepath}: {e}\")\n",
    "\n",
    "# 3. Chunk text using a splitter\n",
    "splitter = RecursiveCharacterTextSplitter(\n",
    "    chunk_size=800,\n",
    "    chunk_overlap=100\n",
    ")\n",
    "chunks = splitter.split_documents(documents)\n",
    "\n",
    "# 4. Embed chunks and store in FAISS\n",
    "# Option 1: If you set the API key as an environment variable above\n",
    "embeddings = OpenAIEmbeddings()\n",
    "\n",
    "# Option 2: Or pass the API key directly\n",
    "# embeddings = OpenAIEmbeddings(openai_api_key=\"your-api-key-here\")\n",
    "\n",
    "vectorstore = FAISS.from_documents(chunks, embeddings)\n",
    "\n",
    "# 5. Create a retriever\n",
    "retriever = vectorstore.as_retriever()\n",
    "\n",
    "# 6. Set up the RAG pipeline\n",
    "qa_chain = RetrievalQA.from_chain_type(\n",
    "    llm=ChatOpenAI(model=\"gpt-4o-mini\"),  # This also needs the API key\n",
    "    retriever=retriever,\n",
    "    return_source_documents=True\n",
    ")\n",
    "\n",
    "# 7. Ask a question\n",
    "query = \"How does authentication work in this repo?\"\n",
    "result = qa_chain(query)\n",
    "print(\"Answer:\")\n",
    "print(result[\"result\"])\n",
    "print(\"\\nSources:\")\n",
    "for doc in result[\"source_documents\"]:\n",
    "    print(doc.metadata[\"source\"])"
   ]
  },
  {
   "cell_type": "code",
   "execution_count": 8,
   "id": "ad1e3b6c-41c1-4d72-aec1-7f9b91a51e71",
   "metadata": {},
   "outputs": [
    {
     "name": "stdout",
     "output_type": "stream",
     "text": [
      "Answer:\n",
      "I don't know.\n",
      "\n",
      "Sources:\n",
      "C:\\python\\frappe\\frappe\\core\\doctype\\doctype\\README.md\n",
      "C:\\python\\frappe\\frappe\\custom\\doctype\\customize_form\\customize_form.js\n",
      "C:\\python\\frappe\\frappe\\desk\\doctype\\todo\\todo_list.js\n",
      "C:\\python\\frappe\\frappe\\hooks.py\n"
     ]
    }
   ],
   "source": [
    "query = \"Where TODO docType located\"\n",
    "result = qa_chain(query)\n",
    "print(\"Answer:\")\n",
    "print(result[\"result\"])\n",
    "print(\"\\nSources:\")\n",
    "for doc in result[\"source_documents\"]:\n",
    "    print(doc.metadata[\"source\"])"
   ]
  },
  {
   "cell_type": "code",
   "execution_count": null,
   "id": "7e506b13-93b3-47c2-b751-c69c4cc04ee8",
   "metadata": {},
   "outputs": [],
   "source": []
  }
 ],
 "metadata": {
  "kernelspec": {
   "display_name": "Python 3 (ipykernel)",
   "language": "python",
   "name": "python3"
  },
  "language_info": {
   "codemirror_mode": {
    "name": "ipython",
    "version": 3
   },
   "file_extension": ".py",
   "mimetype": "text/x-python",
   "name": "python",
   "nbconvert_exporter": "python",
   "pygments_lexer": "ipython3",
   "version": "3.12.7"
  }
 },
 "nbformat": 4,
 "nbformat_minor": 5
}
