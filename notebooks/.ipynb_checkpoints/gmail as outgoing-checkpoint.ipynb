{
 "cells": [
  {
   "cell_type": "code",
   "execution_count": 1,
   "id": "20321872-4e57-49bb-a234-c674d6ac2a64",
   "metadata": {},
   "outputs": [
    {
     "name": "stderr",
     "output_type": "stream",
     "text": [
      "ERROR: Could not find a version that satisfies the requirement smtplib (from versions: none)\n",
      "ERROR: No matching distribution found for smtplib\n"
     ]
    }
   ],
   "source": [
    "!pip install smtplib"
   ]
  },
  {
   "cell_type": "code",
   "execution_count": 2,
   "id": "c2a18795-13f9-4653-b2b4-e81666df12f5",
   "metadata": {},
   "outputs": [
    {
     "name": "stdout",
     "output_type": "stream",
     "text": [
      "✅ Test email sent successfully!\n"
     ]
    }
   ],
   "source": [
    "import smtplib\n",
    "from email.mime.text import MIMEText\n",
    "\n",
    "# Replace with your info\n",
    "email_address = \"mbl.acc4@gmail.com\"\n",
    "app_password = \"*********\"  # No spaces \n",
    "to_email = \"i771468@gmail.com\"  # Where to send the test email\n",
    "\n",
    "# Compose test message\n",
    "msg = MIMEText(\"Hello, this is a test email from Jupyter using Gmail SMTP and App Password.\")\n",
    "msg['Subject'] = 'Test Email from Jupyter'\n",
    "msg['From'] = email_address\n",
    "msg['To'] = to_email\n",
    "\n",
    "try:\n",
    "    # Connect to Gmail SMTP\n",
    "    server = smtplib.SMTP(\"smtp.gmail.com\", 587)\n",
    "    server.starttls()  # Upgrade to secure TLS\n",
    "    server.login(email_address, app_password)\n",
    "    server.sendmail(email_address, to_email, msg.as_string())\n",
    "    server.quit()\n",
    "    print(\"✅ Test email sent successfully!\")\n",
    "except Exception as e:\n",
    "    print(\"❌ Failed to send test email:\", e)\n"
   ]
  },
  {
   "cell_type": "code",
   "execution_count": 4,
   "id": "91ac0863-a6b7-455f-87d8-2c9f6cc2a762",
   "metadata": {},
   "outputs": [
    {
     "name": "stderr",
     "output_type": "stream",
     "text": [
      "send: 'ehlo [192.168.131.125]\\r\\n'\n",
      "reply: b'250-0d71c3844168\\r\\n'\n",
      "reply: b'250-AUTH PLAIN LOGIN\\r\\n'\n",
      "reply: b'250-SIZE 52428800\\r\\n'\n",
      "reply: b'250-8BITMIME\\r\\n'\n",
      "reply: b'250-SMTPUTF8\\r\\n'\n",
      "reply: b'250-PIPELINING\\r\\n'\n",
      "reply: b'250 STARTTLS\\r\\n'\n",
      "reply: retcode (250); Msg: b'0d71c3844168\\nAUTH PLAIN LOGIN\\nSIZE 52428800\\n8BITMIME\\nSMTPUTF8\\nPIPELINING\\nSTARTTLS'\n",
      "send: 'STARTTLS\\r\\n'\n",
      "reply: b'220 Go ahead\\r\\n'\n",
      "reply: retcode (220); Msg: b'Go ahead'\n",
      "send: 'ehlo [192.168.131.125]\\r\\n'\n",
      "reply: b'250-0d71c3844168\\r\\n'\n",
      "reply: b'250-AUTH PLAIN LOGIN\\r\\n'\n",
      "reply: b'250-SIZE 52428800\\r\\n'\n",
      "reply: b'250-8BITMIME\\r\\n'\n",
      "reply: b'250-SMTPUTF8\\r\\n'\n",
      "reply: b'250 PIPELINING\\r\\n'\n",
      "reply: retcode (250); Msg: b'0d71c3844168\\nAUTH PLAIN LOGIN\\nSIZE 52428800\\n8BITMIME\\nSMTPUTF8\\nPIPELINING'\n",
      "send: 'AUTH PLAIN AHBvc3RtYXN0ZXJAZXhwb25hbnRhLmNvbQBHb29nbGVnNi4=\\r\\n'\n",
      "reply: b'235 Authentication successful\\r\\n'\n",
      "reply: retcode (235); Msg: b'Authentication successful'\n",
      "send: 'mail FROM:<postmaster@exponanta.com> size=425\\r\\n'\n",
      "reply: b'250 Sender address accepted\\r\\n'\n",
      "reply: retcode (250); Msg: b'Sender address accepted'\n",
      "send: 'rcpt TO:<i771468@gmail.com>\\r\\n'\n",
      "reply: b'250 Recipient address accepted\\r\\n'\n",
      "reply: retcode (250); Msg: b'Recipient address accepted'\n",
      "send: 'data\\r\\n'\n",
      "reply: b'354 Continue\\r\\n'\n",
      "reply: retcode (354); Msg: b'Continue'\n",
      "data: (354, b'Continue')\n",
      "send: b'Content-Type: multipart/mixed; boundary=\"===============4031686228924108374==\"\\r\\nMIME-Version: 1.0\\r\\nFrom: postmaster@exponanta.com\\r\\nTo: i771468@gmail.com\\r\\nSubject: Test Email from Mailgun\\r\\n\\r\\n--===============4031686228924108374==\\r\\nContent-Type: text/plain; charset=\"us-ascii\"\\r\\nMIME-Version: 1.0\\r\\nContent-Transfer-Encoding: 7bit\\r\\n\\r\\nThis is a test email sent using Mailgun via Python.\\r\\n--===============4031686228924108374==--\\r\\n.\\r\\n'\n",
      "reply: b'250 Great success\\r\\n'\n",
      "reply: retcode (250); Msg: b'Great success'\n",
      "data: (250, b'Great success')\n"
     ]
    },
    {
     "name": "stdout",
     "output_type": "stream",
     "text": [
      "Email sent successfully!\n"
     ]
    },
    {
     "name": "stderr",
     "output_type": "stream",
     "text": [
      "send: 'QUIT\\r\\n'\n",
      "reply: b'221 See you later. Yours truly, Mailgun\\r\\n'\n",
      "reply: retcode (221); Msg: b'See you later. Yours truly, Mailgun'\n"
     ]
    }
   ],
   "source": [
    "import smtplib\n",
    "import base64\n",
    "from email.mime.text import MIMEText\n",
    "from email.mime.multipart import MIMEMultipart\n",
    "\n",
    "# Mailgun SMTP server settings\n",
    "smtp_server = \"smtp.mailgun.org\"\n",
    "smtp_port = 2525\n",
    "smtp_user = \"postmaster@exponanta.com\"  # Your Mailgun username\n",
    "smtp_password = \"*****\"  # Your Mailgun password\n",
    "\n",
    "# Encode the username and password in base64\n",
    "username_b64 = base64.b64encode(smtp_user.encode()).decode()\n",
    "password_b64 = base64.b64encode(smtp_password.encode()).decode()\n",
    "\n",
    "# Create a secure connection to the Mailgun SMTP server\n",
    "try:\n",
    "    with smtplib.SMTP(smtp_server, smtp_port) as server:\n",
    "        server.set_debuglevel(1)  # Optional: to see detailed communication between client and server\n",
    "        server.ehlo()  # Greet the server\n",
    "        server.starttls()  # Start TLS encryption\n",
    "\n",
    "        # Perform authentication\n",
    "        server.login(smtp_user, smtp_password)\n",
    "\n",
    "        # Compose email\n",
    "        from_address = \"postmaster@exponanta.com\"\n",
    "        to_address = \"i771468@gmail.com\"\n",
    "        subject = \"Test Email from Mailgun\"\n",
    "        body = \"This is a test email sent using Mailgun via Python.\"\n",
    "\n",
    "        # Create the email message\n",
    "        message = MIMEMultipart()\n",
    "        message['From'] = from_address\n",
    "        message['To'] = to_address\n",
    "        message['Subject'] = subject\n",
    "        message.attach(MIMEText(body, 'plain'))\n",
    "\n",
    "        # Send the email\n",
    "        server.sendmail(from_address, to_address, message.as_string())\n",
    "        print(\"Email sent successfully!\")\n",
    "\n",
    "except Exception as e:\n",
    "    print(f\"An error occurred: {e}\")\n"
   ]
  },
  {
   "cell_type": "code",
   "execution_count": null,
   "id": "7d75457b-9843-4384-a156-788e3a19bd1e",
   "metadata": {},
   "outputs": [],
   "source": []
  }
 ],
 "metadata": {
  "kernelspec": {
   "display_name": "Python 3 (ipykernel)",
   "language": "python",
   "name": "python3"
  },
  "language_info": {
   "codemirror_mode": {
    "name": "ipython",
    "version": 3
   },
   "file_extension": ".py",
   "mimetype": "text/x-python",
   "name": "python",
   "nbconvert_exporter": "python",
   "pygments_lexer": "ipython3",
   "version": "3.12.7"
  }
 },
 "nbformat": 4,
 "nbformat_minor": 5
}
